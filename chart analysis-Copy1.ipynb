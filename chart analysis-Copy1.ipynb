{
 "cells": [
  {
   "cell_type": "code",
   "execution_count": 1,
   "id": "8839cd41",
   "metadata": {},
   "outputs": [],
   "source": [
    "import pandas as pd\n",
    "from datetime import datetime\n",
    "import plotly.graph_objects as go"
   ]
  },
  {
   "cell_type": "code",
   "execution_count": 2,
   "id": "53160ad6",
   "metadata": {},
   "outputs": [],
   "source": [
    "from glob import glob"
   ]
  },
  {
   "cell_type": "code",
   "execution_count": 13,
   "id": "e06be1c9",
   "metadata": {},
   "outputs": [],
   "source": [
    "import plotly\n",
    "import plotly.offline as py\n",
    "import plotly.graph_objs as go"
   ]
  },
  {
   "cell_type": "code",
   "execution_count": 14,
   "id": "389409ca",
   "metadata": {},
   "outputs": [],
   "source": [
    "files = glob(f'data/STK/1_min/TSLA/20210501.csv')\n",
    "data_list = []\n",
    "for file in files:\n",
    "    data_list.append(pd.read_csv(file))\n",
    "df = pd.concat(data_list).reset_index(drop=True)"
   ]
  },
  {
   "cell_type": "markdown",
   "id": "266f40d6",
   "metadata": {},
   "source": [
    "* check the trend change on before 12"
   ]
  },
  {
   "cell_type": "code",
   "execution_count": 15,
   "id": "1ab74e18",
   "metadata": {},
   "outputs": [],
   "source": [
    "df['date'] = pd.to_datetime(df['date'])\n",
    "df.index = df['date']\n",
    "df = df.between_time('21:30', '23:59')\n",
    "df['time'] = df['date'].dt.time\n",
    "df['date'] = df['date'].dt.date.apply(lambda x: x.strftime('%Y-%m-%d'))"
   ]
  },
  {
   "cell_type": "code",
   "execution_count": 16,
   "id": "72063bc6",
   "metadata": {},
   "outputs": [],
   "source": [
    "valid_dates = df['date'].value_counts()"
   ]
  },
  {
   "cell_type": "code",
   "execution_count": 17,
   "id": "08b4007c",
   "metadata": {},
   "outputs": [],
   "source": [
    "valid_dates = list(valid_dates[valid_dates > 3].index)"
   ]
  },
  {
   "cell_type": "code",
   "execution_count": 18,
   "id": "79fbba7e",
   "metadata": {},
   "outputs": [],
   "source": [
    "df = df[df['date'].isin(valid_dates)]"
   ]
  },
  {
   "cell_type": "code",
   "execution_count": 19,
   "id": "0ff07103",
   "metadata": {},
   "outputs": [
    {
     "data": {
      "text/html": [
       "<div>\n",
       "<style scoped>\n",
       "    .dataframe tbody tr th:only-of-type {\n",
       "        vertical-align: middle;\n",
       "    }\n",
       "\n",
       "    .dataframe tbody tr th {\n",
       "        vertical-align: top;\n",
       "    }\n",
       "\n",
       "    .dataframe thead th {\n",
       "        text-align: right;\n",
       "    }\n",
       "</style>\n",
       "<table border=\"1\" class=\"dataframe\">\n",
       "  <thead>\n",
       "    <tr style=\"text-align: right;\">\n",
       "      <th></th>\n",
       "      <th>date</th>\n",
       "      <th>open</th>\n",
       "      <th>high</th>\n",
       "      <th>low</th>\n",
       "      <th>close</th>\n",
       "      <th>volume</th>\n",
       "      <th>barCount</th>\n",
       "      <th>average</th>\n",
       "      <th>time</th>\n",
       "    </tr>\n",
       "    <tr>\n",
       "      <th>date</th>\n",
       "      <th></th>\n",
       "      <th></th>\n",
       "      <th></th>\n",
       "      <th></th>\n",
       "      <th></th>\n",
       "      <th></th>\n",
       "      <th></th>\n",
       "      <th></th>\n",
       "      <th></th>\n",
       "    </tr>\n",
       "  </thead>\n",
       "  <tbody>\n",
       "    <tr>\n",
       "      <th>2021-04-30 21:30:00</th>\n",
       "      <td>2021-04-30</td>\n",
       "      <td>667.59</td>\n",
       "      <td>670.00</td>\n",
       "      <td>666.14</td>\n",
       "      <td>668.11</td>\n",
       "      <td>2390</td>\n",
       "      <td>573</td>\n",
       "      <td>668.009</td>\n",
       "      <td>21:30:00</td>\n",
       "    </tr>\n",
       "    <tr>\n",
       "      <th>2021-04-30 21:31:00</th>\n",
       "      <td>2021-04-30</td>\n",
       "      <td>667.72</td>\n",
       "      <td>672.73</td>\n",
       "      <td>667.52</td>\n",
       "      <td>671.23</td>\n",
       "      <td>1179</td>\n",
       "      <td>587</td>\n",
       "      <td>670.746</td>\n",
       "      <td>21:31:00</td>\n",
       "    </tr>\n",
       "    <tr>\n",
       "      <th>2021-04-30 21:32:00</th>\n",
       "      <td>2021-04-30</td>\n",
       "      <td>671.60</td>\n",
       "      <td>672.00</td>\n",
       "      <td>669.29</td>\n",
       "      <td>670.69</td>\n",
       "      <td>695</td>\n",
       "      <td>370</td>\n",
       "      <td>670.606</td>\n",
       "      <td>21:32:00</td>\n",
       "    </tr>\n",
       "    <tr>\n",
       "      <th>2021-04-30 21:33:00</th>\n",
       "      <td>2021-04-30</td>\n",
       "      <td>670.82</td>\n",
       "      <td>671.52</td>\n",
       "      <td>669.86</td>\n",
       "      <td>670.39</td>\n",
       "      <td>550</td>\n",
       "      <td>303</td>\n",
       "      <td>670.675</td>\n",
       "      <td>21:33:00</td>\n",
       "    </tr>\n",
       "    <tr>\n",
       "      <th>2021-04-30 21:34:00</th>\n",
       "      <td>2021-04-30</td>\n",
       "      <td>670.94</td>\n",
       "      <td>671.60</td>\n",
       "      <td>669.50</td>\n",
       "      <td>670.00</td>\n",
       "      <td>532</td>\n",
       "      <td>333</td>\n",
       "      <td>670.607</td>\n",
       "      <td>21:34:00</td>\n",
       "    </tr>\n",
       "  </tbody>\n",
       "</table>\n",
       "</div>"
      ],
      "text/plain": [
       "                           date    open    high     low   close  volume  \\\n",
       "date                                                                      \n",
       "2021-04-30 21:30:00  2021-04-30  667.59  670.00  666.14  668.11    2390   \n",
       "2021-04-30 21:31:00  2021-04-30  667.72  672.73  667.52  671.23    1179   \n",
       "2021-04-30 21:32:00  2021-04-30  671.60  672.00  669.29  670.69     695   \n",
       "2021-04-30 21:33:00  2021-04-30  670.82  671.52  669.86  670.39     550   \n",
       "2021-04-30 21:34:00  2021-04-30  670.94  671.60  669.50  670.00     532   \n",
       "\n",
       "                     barCount  average      time  \n",
       "date                                              \n",
       "2021-04-30 21:30:00       573  668.009  21:30:00  \n",
       "2021-04-30 21:31:00       587  670.746  21:31:00  \n",
       "2021-04-30 21:32:00       370  670.606  21:32:00  \n",
       "2021-04-30 21:33:00       303  670.675  21:33:00  \n",
       "2021-04-30 21:34:00       333  670.607  21:34:00  "
      ]
     },
     "execution_count": 19,
     "metadata": {},
     "output_type": "execute_result"
    }
   ],
   "source": [
    "df.head()"
   ]
  },
  {
   "cell_type": "markdown",
   "id": "7916098b",
   "metadata": {},
   "source": [
    "# Candle Chart"
   ]
  },
  {
   "cell_type": "code",
   "execution_count": 20,
   "id": "541dacef",
   "metadata": {},
   "outputs": [],
   "source": [
    "dates = sorted(df['date'].unique())"
   ]
  },
  {
   "cell_type": "code",
   "execution_count": 21,
   "id": "35d781c2",
   "metadata": {},
   "outputs": [],
   "source": [
    "fig = go.Figure()\n",
    "\n",
    "for date in dates:\n",
    "    data = df[df['date'] == date]\n",
    "    fig.add_trace(go.Candlestick(x=data['time'],\n",
    "            open=data['open'],\n",
    "            high=data['high'],\n",
    "            low=data['low'],\n",
    "            close=data['close'],\n",
    "                                name = date))\n",
    "\n",
    "import plotly.io as pio\n",
    "pio.renderers.default = 'browser'\n",
    "pio.show(fig)"
   ]
  },
  {
   "cell_type": "markdown",
   "id": "51f1ef71",
   "metadata": {},
   "source": [
    "# Line Chart"
   ]
  },
  {
   "cell_type": "code",
   "execution_count": 13,
   "id": "461e17dc",
   "metadata": {},
   "outputs": [],
   "source": [
    "line_data = df[['date', 'time' ,'average', 'open']].copy()"
   ]
  },
  {
   "cell_type": "code",
   "execution_count": 14,
   "id": "86a51ecf",
   "metadata": {},
   "outputs": [],
   "source": [
    "# Find the min open price\n",
    "min_open_price = line_data['open'].min()"
   ]
  },
  {
   "cell_type": "code",
   "execution_count": 15,
   "id": "96593610",
   "metadata": {},
   "outputs": [],
   "source": [
    "# To bring all open price to 0, subtract open price from average\n",
    "line_data['avg_nor'] = line_data['average'] - line_data['open']"
   ]
  },
  {
   "cell_type": "code",
   "execution_count": 16,
   "id": "288eb078",
   "metadata": {},
   "outputs": [],
   "source": [
    "dates = sorted(line_data['date'].unique())"
   ]
  },
  {
   "cell_type": "code",
   "execution_count": 17,
   "id": "ff51b24a",
   "metadata": {},
   "outputs": [],
   "source": [
    "fig = go.Figure()\n",
    "\n",
    "for date in dates:\n",
    "    data = line_data[line_data['date'] == date]\n",
    "    fig.add_trace(go.Scatter(x=data['time'], y=data['avg_nor'], name = date))\n",
    "\n",
    "import plotly.io as pio\n",
    "pio.renderers.default = 'browser'\n",
    "pio.show(fig)"
   ]
  },
  {
   "cell_type": "code",
   "execution_count": null,
   "id": "dbd96d05",
   "metadata": {},
   "outputs": [],
   "source": []
  }
 ],
 "metadata": {
  "kernelspec": {
   "display_name": "Python 3",
   "language": "python",
   "name": "python3"
  },
  "language_info": {
   "codemirror_mode": {
    "name": "ipython",
    "version": 3
   },
   "file_extension": ".py",
   "mimetype": "text/x-python",
   "name": "python",
   "nbconvert_exporter": "python",
   "pygments_lexer": "ipython3",
   "version": "3.8.8"
  }
 },
 "nbformat": 4,
 "nbformat_minor": 5
}
