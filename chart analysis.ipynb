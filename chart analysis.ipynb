{
 "cells": [
  {
   "cell_type": "code",
   "execution_count": 1,
   "id": "8839cd41",
   "metadata": {},
   "outputs": [],
   "source": [
    "import pandas as pd\n",
    "from datetime import datetime\n",
    "import plotly.graph_objects as go"
   ]
  },
  {
   "cell_type": "code",
   "execution_count": 2,
   "id": "53160ad6",
   "metadata": {},
   "outputs": [],
   "source": [
    "from glob import glob"
   ]
  },
  {
   "cell_type": "code",
   "execution_count": 3,
   "id": "e06be1c9",
   "metadata": {},
   "outputs": [],
   "source": [
    "import plotly\n",
    "import plotly.offline as py\n",
    "import plotly.graph_objs as go"
   ]
  },
  {
   "cell_type": "code",
   "execution_count": 38,
   "id": "389409ca",
   "metadata": {},
   "outputs": [],
   "source": [
    "files = glob(f'data/STK/5_mins/TSLA/*.csv')\n",
    "data_list = []\n",
    "for file in files:\n",
    "    data_list.append(pd.read_csv(file))\n",
    "df = pd.concat(data_list).reset_index(drop=True)"
   ]
  },
  {
   "cell_type": "markdown",
   "id": "266f40d6",
   "metadata": {},
   "source": [
    "* check the trend change on before 12"
   ]
  },
  {
   "cell_type": "code",
   "execution_count": 39,
   "id": "1ab74e18",
   "metadata": {},
   "outputs": [],
   "source": [
    "df['date'] = pd.to_datetime(df['date'])\n",
    "df.index = df['date']\n",
    "df = df.between_time('21:30', '23:59')\n",
    "df['time'] = df['date'].dt.time\n",
    "df['date'] = df['date'].dt.date.apply(lambda x: x.strftime('%Y-%m-%d'))"
   ]
  },
  {
   "cell_type": "code",
   "execution_count": 40,
   "id": "72063bc6",
   "metadata": {},
   "outputs": [],
   "source": [
    "valid_dates = df['date'].value_counts()"
   ]
  },
  {
   "cell_type": "code",
   "execution_count": 41,
   "id": "08b4007c",
   "metadata": {},
   "outputs": [],
   "source": [
    "valid_dates = list(valid_dates[valid_dates > 3].index)"
   ]
  },
  {
   "cell_type": "code",
   "execution_count": 42,
   "id": "79fbba7e",
   "metadata": {},
   "outputs": [],
   "source": [
    "df = df[df['date'].isin(valid_dates)]"
   ]
  },
  {
   "cell_type": "code",
   "execution_count": 43,
   "id": "0ff07103",
   "metadata": {},
   "outputs": [
    {
     "data": {
      "text/html": [
       "<div>\n",
       "<style scoped>\n",
       "    .dataframe tbody tr th:only-of-type {\n",
       "        vertical-align: middle;\n",
       "    }\n",
       "\n",
       "    .dataframe tbody tr th {\n",
       "        vertical-align: top;\n",
       "    }\n",
       "\n",
       "    .dataframe thead th {\n",
       "        text-align: right;\n",
       "    }\n",
       "</style>\n",
       "<table border=\"1\" class=\"dataframe\">\n",
       "  <thead>\n",
       "    <tr style=\"text-align: right;\">\n",
       "      <th></th>\n",
       "      <th>date</th>\n",
       "      <th>open</th>\n",
       "      <th>high</th>\n",
       "      <th>low</th>\n",
       "      <th>close</th>\n",
       "      <th>volume</th>\n",
       "      <th>barCount</th>\n",
       "      <th>average</th>\n",
       "      <th>time</th>\n",
       "    </tr>\n",
       "    <tr>\n",
       "      <th>date</th>\n",
       "      <th></th>\n",
       "      <th></th>\n",
       "      <th></th>\n",
       "      <th></th>\n",
       "      <th></th>\n",
       "      <th></th>\n",
       "      <th></th>\n",
       "      <th></th>\n",
       "      <th></th>\n",
       "    </tr>\n",
       "  </thead>\n",
       "  <tbody>\n",
       "    <tr>\n",
       "      <th>2021-04-30 21:30:00</th>\n",
       "      <td>2021-04-30</td>\n",
       "      <td>667.59</td>\n",
       "      <td>672.73</td>\n",
       "      <td>666.14</td>\n",
       "      <td>670.00</td>\n",
       "      <td>5348</td>\n",
       "      <td>2166</td>\n",
       "      <td>669.483</td>\n",
       "      <td>21:30:00</td>\n",
       "    </tr>\n",
       "    <tr>\n",
       "      <th>2021-04-30 21:35:00</th>\n",
       "      <td>2021-04-30</td>\n",
       "      <td>670.03</td>\n",
       "      <td>672.47</td>\n",
       "      <td>667.59</td>\n",
       "      <td>671.97</td>\n",
       "      <td>3712</td>\n",
       "      <td>1920</td>\n",
       "      <td>670.124</td>\n",
       "      <td>21:35:00</td>\n",
       "    </tr>\n",
       "    <tr>\n",
       "      <th>2021-04-30 21:40:00</th>\n",
       "      <td>2021-04-30</td>\n",
       "      <td>672.05</td>\n",
       "      <td>673.85</td>\n",
       "      <td>671.04</td>\n",
       "      <td>672.55</td>\n",
       "      <td>2235</td>\n",
       "      <td>1231</td>\n",
       "      <td>672.513</td>\n",
       "      <td>21:40:00</td>\n",
       "    </tr>\n",
       "    <tr>\n",
       "      <th>2021-04-30 21:45:00</th>\n",
       "      <td>2021-04-30</td>\n",
       "      <td>672.68</td>\n",
       "      <td>677.68</td>\n",
       "      <td>672.31</td>\n",
       "      <td>677.54</td>\n",
       "      <td>3257</td>\n",
       "      <td>1698</td>\n",
       "      <td>675.148</td>\n",
       "      <td>21:45:00</td>\n",
       "    </tr>\n",
       "    <tr>\n",
       "      <th>2021-04-30 21:50:00</th>\n",
       "      <td>2021-04-30</td>\n",
       "      <td>677.66</td>\n",
       "      <td>681.08</td>\n",
       "      <td>677.39</td>\n",
       "      <td>680.22</td>\n",
       "      <td>5305</td>\n",
       "      <td>2936</td>\n",
       "      <td>679.477</td>\n",
       "      <td>21:50:00</td>\n",
       "    </tr>\n",
       "  </tbody>\n",
       "</table>\n",
       "</div>"
      ],
      "text/plain": [
       "                           date    open    high     low   close  volume  \\\n",
       "date                                                                      \n",
       "2021-04-30 21:30:00  2021-04-30  667.59  672.73  666.14  670.00    5348   \n",
       "2021-04-30 21:35:00  2021-04-30  670.03  672.47  667.59  671.97    3712   \n",
       "2021-04-30 21:40:00  2021-04-30  672.05  673.85  671.04  672.55    2235   \n",
       "2021-04-30 21:45:00  2021-04-30  672.68  677.68  672.31  677.54    3257   \n",
       "2021-04-30 21:50:00  2021-04-30  677.66  681.08  677.39  680.22    5305   \n",
       "\n",
       "                     barCount  average      time  \n",
       "date                                              \n",
       "2021-04-30 21:30:00      2166  669.483  21:30:00  \n",
       "2021-04-30 21:35:00      1920  670.124  21:35:00  \n",
       "2021-04-30 21:40:00      1231  672.513  21:40:00  \n",
       "2021-04-30 21:45:00      1698  675.148  21:45:00  \n",
       "2021-04-30 21:50:00      2936  679.477  21:50:00  "
      ]
     },
     "execution_count": 43,
     "metadata": {},
     "output_type": "execute_result"
    }
   ],
   "source": [
    "df.head()"
   ]
  },
  {
   "cell_type": "markdown",
   "id": "7916098b",
   "metadata": {},
   "source": [
    "# Candle Chart"
   ]
  },
  {
   "cell_type": "code",
   "execution_count": 10,
   "id": "541dacef",
   "metadata": {},
   "outputs": [],
   "source": [
    "dates = sorted(df['date'].unique())"
   ]
  },
  {
   "cell_type": "code",
   "execution_count": 11,
   "id": "35d781c2",
   "metadata": {},
   "outputs": [],
   "source": [
    "fig = go.Figure()\n",
    "\n",
    "for date in dates:\n",
    "    data = df[df['date'] == date]\n",
    "    fig.add_trace(go.Candlestick(x=data['time'],\n",
    "            open=data['open'],\n",
    "            high=data['high'],\n",
    "            low=data['low'],\n",
    "            close=data['close'],\n",
    "                                name = date))\n",
    "\n",
    "import plotly.io as pio\n",
    "pio.renderers.default = 'browser'\n",
    "pio.show(fig)"
   ]
  },
  {
   "cell_type": "markdown",
   "id": "51f1ef71",
   "metadata": {},
   "source": [
    "# Line Chart"
   ]
  },
  {
   "cell_type": "code",
   "execution_count": 44,
   "id": "461e17dc",
   "metadata": {},
   "outputs": [],
   "source": [
    "line_data = df[['date', 'time' ,'average', 'open']].copy()"
   ]
  },
  {
   "cell_type": "code",
   "execution_count": 45,
   "id": "ab0ae56b",
   "metadata": {},
   "outputs": [],
   "source": [
    "line_data.reset_index(drop=True, inplace=True)"
   ]
  },
  {
   "cell_type": "code",
   "execution_count": 46,
   "id": "90b69fc9",
   "metadata": {},
   "outputs": [],
   "source": [
    "open_price = line_data.sort_values(['date', 'time']).groupby(['date'])['open'].first().reset_index()"
   ]
  },
  {
   "cell_type": "code",
   "execution_count": 47,
   "id": "86a51ecf",
   "metadata": {},
   "outputs": [],
   "source": [
    "# Find the min open price\n",
    "# min_open_price = line_data['open'].min()"
   ]
  },
  {
   "cell_type": "code",
   "execution_count": 48,
   "id": "bb71f09c",
   "metadata": {},
   "outputs": [],
   "source": [
    "line_data = line_data.merge(open_price, on=['date'], suffixes=('_actual', '_day'))"
   ]
  },
  {
   "cell_type": "code",
   "execution_count": 49,
   "id": "96593610",
   "metadata": {},
   "outputs": [],
   "source": [
    "# To bring all open price to 0, subtract open price from average\n",
    "line_data['avg_nor'] = line_data['average'] - line_data['open_day']"
   ]
  },
  {
   "cell_type": "code",
   "execution_count": 50,
   "id": "288eb078",
   "metadata": {},
   "outputs": [],
   "source": [
    "dates = sorted(line_data['date'].unique())"
   ]
  },
  {
   "cell_type": "code",
   "execution_count": 51,
   "id": "ff51b24a",
   "metadata": {},
   "outputs": [],
   "source": [
    "fig = go.Figure()\n",
    "\n",
    "for date in dates:\n",
    "    data = line_data[line_data['date'] == date]\n",
    "    fig.add_trace(go.Scatter(x=data['time'], y=data['avg_nor'], name = date))\n",
    "\n",
    "import plotly.io as pio\n",
    "pio.renderers.default = 'browser'\n",
    "pio.show(fig)"
   ]
  },
  {
   "cell_type": "code",
   "execution_count": null,
   "id": "dbd96d05",
   "metadata": {},
   "outputs": [],
   "source": []
  }
 ],
 "metadata": {
  "kernelspec": {
   "display_name": "Python 3",
   "language": "python",
   "name": "python3"
  },
  "language_info": {
   "codemirror_mode": {
    "name": "ipython",
    "version": 3
   },
   "file_extension": ".py",
   "mimetype": "text/x-python",
   "name": "python",
   "nbconvert_exporter": "python",
   "pygments_lexer": "ipython3",
   "version": "3.8.8"
  }
 },
 "nbformat": 4,
 "nbformat_minor": 5
}
