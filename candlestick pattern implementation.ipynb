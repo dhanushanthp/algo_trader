{
 "cells": [
  {
   "cell_type": "code",
   "execution_count": 1,
   "id": "18806441",
   "metadata": {},
   "outputs": [],
   "source": [
    "import pandas as pd\n",
    "from datetime import datetime\n",
    "import plotly.graph_objects as go"
   ]
  },
  {
   "cell_type": "code",
   "execution_count": 2,
   "id": "98a3cd6a",
   "metadata": {},
   "outputs": [],
   "source": [
    "from glob import glob"
   ]
  },
  {
   "cell_type": "code",
   "execution_count": 3,
   "id": "b7c64e59",
   "metadata": {},
   "outputs": [],
   "source": [
    "import plotly\n",
    "import plotly.offline as py\n",
    "import plotly.graph_objs as go"
   ]
  },
  {
   "cell_type": "markdown",
   "id": "d5d1cc21",
   "metadata": {},
   "source": [
    "# Single Day Analysis"
   ]
  },
  {
   "cell_type": "code",
   "execution_count": 4,
   "id": "4f7b9498",
   "metadata": {},
   "outputs": [],
   "source": [
    "# This provide the previous day night and current day mid morning day\n",
    "day = '20210501'"
   ]
  },
  {
   "cell_type": "code",
   "execution_count": 5,
   "id": "e8f8c46b",
   "metadata": {},
   "outputs": [],
   "source": [
    "df = pd.read_csv(f'data/STK/1_min/TSLA/{day}.csv')"
   ]
  },
  {
   "cell_type": "code",
   "execution_count": 6,
   "id": "a34848a3",
   "metadata": {},
   "outputs": [],
   "source": [
    "df['date'] = pd.to_datetime(df['date'])\n",
    "df.index = df['date']"
   ]
  },
  {
   "cell_type": "code",
   "execution_count": 7,
   "id": "51d57d00",
   "metadata": {},
   "outputs": [],
   "source": [
    "# Filter by trading hours\n",
    "df = df.between_time('21:30', '23:50')"
   ]
  },
  {
   "cell_type": "code",
   "execution_count": 8,
   "id": "e011d2a9",
   "metadata": {},
   "outputs": [],
   "source": [
    "# Reset Index\n",
    "df.reset_index(drop=True, inplace=True)"
   ]
  },
  {
   "cell_type": "code",
   "execution_count": 9,
   "id": "f8d9a55c",
   "metadata": {},
   "outputs": [],
   "source": [
    "# Create time entry\n",
    "df['time'] = df['date'].dt.time\n",
    "df['date'] = df['date'].dt.date.apply(lambda x: x.strftime('%Y-%m-%d'))"
   ]
  },
  {
   "cell_type": "code",
   "execution_count": 10,
   "id": "434aca7d",
   "metadata": {},
   "outputs": [],
   "source": [
    "# Find the close price on another n time stamps, the timestamp may vary based on time frame (e.g. 1min, 2 min, 5 min)\n",
    "# This will help to understand the price movement up or down and by price\n",
    "# Change in price + or -\n",
    "# Calculate the close price difference and find the percentage of price change\n",
    "df['t+1'] = (((df['close'].shift(-1) - df['close'])/df['close']) * 100).round(2)\n",
    "df['t+2'] = (((df['close'].shift(-2) - df['close'])/df['close']) * 100).round(2)\n",
    "df['t+3'] = (((df['close'].shift(-3) - df['close'])/df['close']) * 100).round(2)\n",
    "df['t+4'] = (((df['close'].shift(-4) - df['close'])/df['close']) * 100).round(2)"
   ]
  },
  {
   "cell_type": "code",
   "execution_count": 11,
   "id": "50d57cf9",
   "metadata": {},
   "outputs": [
    {
     "data": {
      "text/html": [
       "<div>\n",
       "<style scoped>\n",
       "    .dataframe tbody tr th:only-of-type {\n",
       "        vertical-align: middle;\n",
       "    }\n",
       "\n",
       "    .dataframe tbody tr th {\n",
       "        vertical-align: top;\n",
       "    }\n",
       "\n",
       "    .dataframe thead th {\n",
       "        text-align: right;\n",
       "    }\n",
       "</style>\n",
       "<table border=\"1\" class=\"dataframe\">\n",
       "  <thead>\n",
       "    <tr style=\"text-align: right;\">\n",
       "      <th></th>\n",
       "      <th>date</th>\n",
       "      <th>open</th>\n",
       "      <th>high</th>\n",
       "      <th>low</th>\n",
       "      <th>close</th>\n",
       "      <th>volume</th>\n",
       "      <th>barCount</th>\n",
       "      <th>average</th>\n",
       "      <th>time</th>\n",
       "      <th>t+1</th>\n",
       "      <th>t+2</th>\n",
       "      <th>t+3</th>\n",
       "      <th>t+4</th>\n",
       "    </tr>\n",
       "  </thead>\n",
       "  <tbody>\n",
       "    <tr>\n",
       "      <th>0</th>\n",
       "      <td>2021-04-30</td>\n",
       "      <td>667.59</td>\n",
       "      <td>670.00</td>\n",
       "      <td>666.14</td>\n",
       "      <td>668.11</td>\n",
       "      <td>2390</td>\n",
       "      <td>573</td>\n",
       "      <td>668.009</td>\n",
       "      <td>21:30:00</td>\n",
       "      <td>0.47</td>\n",
       "      <td>0.39</td>\n",
       "      <td>0.34</td>\n",
       "      <td>0.28</td>\n",
       "    </tr>\n",
       "    <tr>\n",
       "      <th>1</th>\n",
       "      <td>2021-04-30</td>\n",
       "      <td>667.72</td>\n",
       "      <td>672.73</td>\n",
       "      <td>667.52</td>\n",
       "      <td>671.23</td>\n",
       "      <td>1179</td>\n",
       "      <td>587</td>\n",
       "      <td>670.746</td>\n",
       "      <td>21:31:00</td>\n",
       "      <td>-0.08</td>\n",
       "      <td>-0.13</td>\n",
       "      <td>-0.18</td>\n",
       "      <td>-0.31</td>\n",
       "    </tr>\n",
       "    <tr>\n",
       "      <th>2</th>\n",
       "      <td>2021-04-30</td>\n",
       "      <td>671.60</td>\n",
       "      <td>672.00</td>\n",
       "      <td>669.29</td>\n",
       "      <td>670.69</td>\n",
       "      <td>695</td>\n",
       "      <td>370</td>\n",
       "      <td>670.606</td>\n",
       "      <td>21:32:00</td>\n",
       "      <td>-0.04</td>\n",
       "      <td>-0.10</td>\n",
       "      <td>-0.23</td>\n",
       "      <td>-0.26</td>\n",
       "    </tr>\n",
       "    <tr>\n",
       "      <th>3</th>\n",
       "      <td>2021-04-30</td>\n",
       "      <td>670.82</td>\n",
       "      <td>671.52</td>\n",
       "      <td>669.86</td>\n",
       "      <td>670.39</td>\n",
       "      <td>550</td>\n",
       "      <td>303</td>\n",
       "      <td>670.675</td>\n",
       "      <td>21:33:00</td>\n",
       "      <td>-0.06</td>\n",
       "      <td>-0.18</td>\n",
       "      <td>-0.21</td>\n",
       "      <td>-0.21</td>\n",
       "    </tr>\n",
       "    <tr>\n",
       "      <th>4</th>\n",
       "      <td>2021-04-30</td>\n",
       "      <td>670.94</td>\n",
       "      <td>671.60</td>\n",
       "      <td>669.50</td>\n",
       "      <td>670.00</td>\n",
       "      <td>532</td>\n",
       "      <td>333</td>\n",
       "      <td>670.607</td>\n",
       "      <td>21:34:00</td>\n",
       "      <td>-0.12</td>\n",
       "      <td>-0.16</td>\n",
       "      <td>-0.15</td>\n",
       "      <td>0.14</td>\n",
       "    </tr>\n",
       "  </tbody>\n",
       "</table>\n",
       "</div>"
      ],
      "text/plain": [
       "         date    open    high     low   close  volume  barCount  average  \\\n",
       "0  2021-04-30  667.59  670.00  666.14  668.11    2390       573  668.009   \n",
       "1  2021-04-30  667.72  672.73  667.52  671.23    1179       587  670.746   \n",
       "2  2021-04-30  671.60  672.00  669.29  670.69     695       370  670.606   \n",
       "3  2021-04-30  670.82  671.52  669.86  670.39     550       303  670.675   \n",
       "4  2021-04-30  670.94  671.60  669.50  670.00     532       333  670.607   \n",
       "\n",
       "       time   t+1   t+2   t+3   t+4  \n",
       "0  21:30:00  0.47  0.39  0.34  0.28  \n",
       "1  21:31:00 -0.08 -0.13 -0.18 -0.31  \n",
       "2  21:32:00 -0.04 -0.10 -0.23 -0.26  \n",
       "3  21:33:00 -0.06 -0.18 -0.21 -0.21  \n",
       "4  21:34:00 -0.12 -0.16 -0.15  0.14  "
      ]
     },
     "execution_count": 11,
     "metadata": {},
     "output_type": "execute_result"
    }
   ],
   "source": [
    "df.head()"
   ]
  },
  {
   "cell_type": "markdown",
   "id": "be0865f9",
   "metadata": {},
   "source": [
    "# Generate Candle Names"
   ]
  },
  {
   "cell_type": "code",
   "execution_count": 12,
   "id": "4e95f374",
   "metadata": {},
   "outputs": [],
   "source": [
    "import talib"
   ]
  },
  {
   "cell_type": "code",
   "execution_count": 13,
   "id": "a36c7ce5",
   "metadata": {},
   "outputs": [],
   "source": [
    "all_cdl_patterns = talib.get_function_groups()['Pattern Recognition']"
   ]
  },
  {
   "cell_type": "code",
   "execution_count": 14,
   "id": "8cb1a0c2",
   "metadata": {},
   "outputs": [],
   "source": [
    "df['morning_star'] = talib.CDLHARAMI(df['open'], df['high'], df['low'], df['close'])"
   ]
  },
  {
   "cell_type": "code",
   "execution_count": 15,
   "id": "b0b48b9f",
   "metadata": {},
   "outputs": [],
   "source": [
    "filtered = df[df['morning_star'].astype(bool)]"
   ]
  },
  {
   "cell_type": "code",
   "execution_count": 23,
   "id": "db455f2e",
   "metadata": {},
   "outputs": [
    {
     "data": {
      "text/html": [
       "<div>\n",
       "<style scoped>\n",
       "    .dataframe tbody tr th:only-of-type {\n",
       "        vertical-align: middle;\n",
       "    }\n",
       "\n",
       "    .dataframe tbody tr th {\n",
       "        vertical-align: top;\n",
       "    }\n",
       "\n",
       "    .dataframe thead th {\n",
       "        text-align: right;\n",
       "    }\n",
       "</style>\n",
       "<table border=\"1\" class=\"dataframe\">\n",
       "  <thead>\n",
       "    <tr style=\"text-align: right;\">\n",
       "      <th></th>\n",
       "      <th>date</th>\n",
       "      <th>open</th>\n",
       "      <th>high</th>\n",
       "      <th>low</th>\n",
       "      <th>close</th>\n",
       "      <th>volume</th>\n",
       "      <th>barCount</th>\n",
       "      <th>average</th>\n",
       "      <th>time</th>\n",
       "      <th>t+1</th>\n",
       "      <th>t+2</th>\n",
       "      <th>t+3</th>\n",
       "      <th>t+4</th>\n",
       "      <th>morning_star</th>\n",
       "    </tr>\n",
       "  </thead>\n",
       "  <tbody>\n",
       "    <tr>\n",
       "      <th>21</th>\n",
       "      <td>2021-04-30</td>\n",
       "      <td>680.50</td>\n",
       "      <td>680.53</td>\n",
       "      <td>678.80</td>\n",
       "      <td>679.85</td>\n",
       "      <td>1062</td>\n",
       "      <td>582</td>\n",
       "      <td>679.631</td>\n",
       "      <td>21:51:00</td>\n",
       "      <td>-0.11</td>\n",
       "      <td>0.11</td>\n",
       "      <td>0.05</td>\n",
       "      <td>-0.12</td>\n",
       "      <td>-100</td>\n",
       "    </tr>\n",
       "    <tr>\n",
       "      <th>54</th>\n",
       "      <td>2021-04-30</td>\n",
       "      <td>690.71</td>\n",
       "      <td>691.13</td>\n",
       "      <td>690.18</td>\n",
       "      <td>690.74</td>\n",
       "      <td>823</td>\n",
       "      <td>499</td>\n",
       "      <td>690.688</td>\n",
       "      <td>22:24:00</td>\n",
       "      <td>-0.09</td>\n",
       "      <td>-0.03</td>\n",
       "      <td>-0.07</td>\n",
       "      <td>0.21</td>\n",
       "      <td>-100</td>\n",
       "    </tr>\n",
       "    <tr>\n",
       "      <th>59</th>\n",
       "      <td>2021-04-30</td>\n",
       "      <td>692.11</td>\n",
       "      <td>692.27</td>\n",
       "      <td>691.33</td>\n",
       "      <td>691.67</td>\n",
       "      <td>701</td>\n",
       "      <td>415</td>\n",
       "      <td>691.683</td>\n",
       "      <td>22:29:00</td>\n",
       "      <td>0.05</td>\n",
       "      <td>0.27</td>\n",
       "      <td>0.25</td>\n",
       "      <td>0.46</td>\n",
       "      <td>-100</td>\n",
       "    </tr>\n",
       "    <tr>\n",
       "      <th>81</th>\n",
       "      <td>2021-04-30</td>\n",
       "      <td>695.92</td>\n",
       "      <td>696.34</td>\n",
       "      <td>695.00</td>\n",
       "      <td>696.30</td>\n",
       "      <td>758</td>\n",
       "      <td>417</td>\n",
       "      <td>695.798</td>\n",
       "      <td>22:51:00</td>\n",
       "      <td>0.21</td>\n",
       "      <td>-0.05</td>\n",
       "      <td>-0.05</td>\n",
       "      <td>-0.20</td>\n",
       "      <td>100</td>\n",
       "    </tr>\n",
       "    <tr>\n",
       "      <th>107</th>\n",
       "      <td>2021-04-30</td>\n",
       "      <td>694.51</td>\n",
       "      <td>695.78</td>\n",
       "      <td>694.40</td>\n",
       "      <td>695.25</td>\n",
       "      <td>557</td>\n",
       "      <td>365</td>\n",
       "      <td>694.790</td>\n",
       "      <td>23:17:00</td>\n",
       "      <td>0.03</td>\n",
       "      <td>-0.11</td>\n",
       "      <td>0.01</td>\n",
       "      <td>0.25</td>\n",
       "      <td>100</td>\n",
       "    </tr>\n",
       "    <tr>\n",
       "      <th>110</th>\n",
       "      <td>2021-04-30</td>\n",
       "      <td>694.52</td>\n",
       "      <td>695.69</td>\n",
       "      <td>693.38</td>\n",
       "      <td>695.31</td>\n",
       "      <td>596</td>\n",
       "      <td>320</td>\n",
       "      <td>694.666</td>\n",
       "      <td>23:20:00</td>\n",
       "      <td>0.24</td>\n",
       "      <td>0.16</td>\n",
       "      <td>0.25</td>\n",
       "      <td>0.23</td>\n",
       "      <td>100</td>\n",
       "    </tr>\n",
       "    <tr>\n",
       "      <th>118</th>\n",
       "      <td>2021-04-30</td>\n",
       "      <td>696.12</td>\n",
       "      <td>696.57</td>\n",
       "      <td>695.60</td>\n",
       "      <td>696.53</td>\n",
       "      <td>309</td>\n",
       "      <td>209</td>\n",
       "      <td>696.104</td>\n",
       "      <td>23:28:00</td>\n",
       "      <td>0.11</td>\n",
       "      <td>0.05</td>\n",
       "      <td>0.17</td>\n",
       "      <td>0.35</td>\n",
       "      <td>100</td>\n",
       "    </tr>\n",
       "    <tr>\n",
       "      <th>131</th>\n",
       "      <td>2021-04-30</td>\n",
       "      <td>704.44</td>\n",
       "      <td>704.98</td>\n",
       "      <td>703.39</td>\n",
       "      <td>704.21</td>\n",
       "      <td>1426</td>\n",
       "      <td>691</td>\n",
       "      <td>704.535</td>\n",
       "      <td>23:41:00</td>\n",
       "      <td>-0.19</td>\n",
       "      <td>-0.23</td>\n",
       "      <td>-0.18</td>\n",
       "      <td>-0.21</td>\n",
       "      <td>-100</td>\n",
       "    </tr>\n",
       "  </tbody>\n",
       "</table>\n",
       "</div>"
      ],
      "text/plain": [
       "           date    open    high     low   close  volume  barCount  average  \\\n",
       "21   2021-04-30  680.50  680.53  678.80  679.85    1062       582  679.631   \n",
       "54   2021-04-30  690.71  691.13  690.18  690.74     823       499  690.688   \n",
       "59   2021-04-30  692.11  692.27  691.33  691.67     701       415  691.683   \n",
       "81   2021-04-30  695.92  696.34  695.00  696.30     758       417  695.798   \n",
       "107  2021-04-30  694.51  695.78  694.40  695.25     557       365  694.790   \n",
       "110  2021-04-30  694.52  695.69  693.38  695.31     596       320  694.666   \n",
       "118  2021-04-30  696.12  696.57  695.60  696.53     309       209  696.104   \n",
       "131  2021-04-30  704.44  704.98  703.39  704.21    1426       691  704.535   \n",
       "\n",
       "         time   t+1   t+2   t+3   t+4  morning_star  \n",
       "21   21:51:00 -0.11  0.11  0.05 -0.12          -100  \n",
       "54   22:24:00 -0.09 -0.03 -0.07  0.21          -100  \n",
       "59   22:29:00  0.05  0.27  0.25  0.46          -100  \n",
       "81   22:51:00  0.21 -0.05 -0.05 -0.20           100  \n",
       "107  23:17:00  0.03 -0.11  0.01  0.25           100  \n",
       "110  23:20:00  0.24  0.16  0.25  0.23           100  \n",
       "118  23:28:00  0.11  0.05  0.17  0.35           100  \n",
       "131  23:41:00 -0.19 -0.23 -0.18 -0.21          -100  "
      ]
     },
     "execution_count": 23,
     "metadata": {},
     "output_type": "execute_result"
    }
   ],
   "source": [
    "filtered"
   ]
  },
  {
   "cell_type": "code",
   "execution_count": 16,
   "id": "8f105295",
   "metadata": {},
   "outputs": [
    {
     "data": {
      "text/plain": [
       "<AxesSubplot:>"
      ]
     },
     "execution_count": 16,
     "metadata": {},
     "output_type": "execute_result"
    },
    {
     "data": {
      "image/png": "[encoded data removed]",
      "text/plain": [
       "<Figure size 432x288 with 1 Axes>"
      ]
     },
     "metadata": {
      "needs_background": "light"
     },
     "output_type": "display_data"
    }
   ],
   "source": [
    "filtered['t+1'].hist()"
   ]
  },
  {
   "cell_type": "code",
   "execution_count": 17,
   "id": "320e55ed",
   "metadata": {},
   "outputs": [
    {
     "data": {
      "text/plain": [
       "<AxesSubplot:>"
      ]
     },
     "execution_count": 17,
     "metadata": {},
     "output_type": "execute_result"
    },
    {
     "data": {
      "image/png": "[encoded data removed]",
      "text/plain": [
       "<Figure size 432x288 with 1 Axes>"
      ]
     },
     "metadata": {
      "needs_background": "light"
     },
     "output_type": "display_data"
    }
   ],
   "source": [
    "filtered['t+2'].hist()"
   ]
  },
  {
   "cell_type": "code",
   "execution_count": 18,
   "id": "db9b9d90",
   "metadata": {},
   "outputs": [
    {
     "data": {
      "text/plain": [
       "<AxesSubplot:>"
      ]
     },
     "execution_count": 18,
     "metadata": {},
     "output_type": "execute_result"
    },
    {
     "data": {
      "image/png": "[encoded data removed]",
      "text/plain": [
       "<Figure size 432x288 with 1 Axes>"
      ]
     },
     "metadata": {
      "needs_background": "light"
     },
     "output_type": "display_data"
    }
   ],
   "source": [
    "filtered['t+4'].hist()"
   ]
  },
  {
   "cell_type": "code",
   "execution_count": 389,
   "id": "d6897615",
   "metadata": {},
   "outputs": [
    {
     "ename": "AttributeError",
     "evalue": "module 'talib' has no attribute 'C'",
     "output_type": "error",
     "traceback": [
      "\u001b[1;31m---------------------------------------------------------------------------\u001b[0m",
      "\u001b[1;31mAttributeError\u001b[0m                            Traceback (most recent call last)",
      "\u001b[1;32m<ipython-input-389-40a99fd89334>\u001b[0m in \u001b[0;36m<module>\u001b[1;34m\u001b[0m\n\u001b[1;32m----> 1\u001b[1;33m \u001b[0mdf\u001b[0m\u001b[1;33m[\u001b[0m\u001b[1;34m'doji'\u001b[0m\u001b[1;33m]\u001b[0m \u001b[1;33m=\u001b[0m \u001b[0mtalib\u001b[0m\u001b[1;33m.\u001b[0m\u001b[0mC\u001b[0m\u001b[1;33m(\u001b[0m\u001b[0mdf\u001b[0m\u001b[1;33m[\u001b[0m\u001b[1;34m'open'\u001b[0m\u001b[1;33m]\u001b[0m\u001b[1;33m,\u001b[0m \u001b[0mdf\u001b[0m\u001b[1;33m[\u001b[0m\u001b[1;34m'high'\u001b[0m\u001b[1;33m]\u001b[0m\u001b[1;33m,\u001b[0m \u001b[0mdf\u001b[0m\u001b[1;33m[\u001b[0m\u001b[1;34m'low'\u001b[0m\u001b[1;33m]\u001b[0m\u001b[1;33m,\u001b[0m \u001b[0mdf\u001b[0m\u001b[1;33m[\u001b[0m\u001b[1;34m'close'\u001b[0m\u001b[1;33m]\u001b[0m\u001b[1;33m)\u001b[0m\u001b[1;33m\u001b[0m\u001b[1;33m\u001b[0m\u001b[0m\n\u001b[0m\u001b[0;32m      2\u001b[0m \u001b[0mdf\u001b[0m\u001b[1;33m[\u001b[0m\u001b[1;34m'harami'\u001b[0m\u001b[1;33m]\u001b[0m \u001b[1;33m=\u001b[0m \u001b[0mtalib\u001b[0m\u001b[1;33m.\u001b[0m\u001b[0mCDLHARAMI\u001b[0m\u001b[1;33m(\u001b[0m\u001b[0mdf\u001b[0m\u001b[1;33m[\u001b[0m\u001b[1;34m'open'\u001b[0m\u001b[1;33m]\u001b[0m\u001b[1;33m,\u001b[0m \u001b[0mdf\u001b[0m\u001b[1;33m[\u001b[0m\u001b[1;34m'high'\u001b[0m\u001b[1;33m]\u001b[0m\u001b[1;33m,\u001b[0m \u001b[0mdf\u001b[0m\u001b[1;33m[\u001b[0m\u001b[1;34m'low'\u001b[0m\u001b[1;33m]\u001b[0m\u001b[1;33m,\u001b[0m \u001b[0mdf\u001b[0m\u001b[1;33m[\u001b[0m\u001b[1;34m'close'\u001b[0m\u001b[1;33m]\u001b[0m\u001b[1;33m)\u001b[0m\u001b[1;33m\u001b[0m\u001b[1;33m\u001b[0m\u001b[0m\n\u001b[0;32m      3\u001b[0m \u001b[0mdf\u001b[0m\u001b[1;33m[\u001b[0m\u001b[1;34m'kick'\u001b[0m\u001b[1;33m]\u001b[0m \u001b[1;33m=\u001b[0m \u001b[0mtalib\u001b[0m\u001b[1;33m.\u001b[0m\u001b[0mCDLKICKING\u001b[0m\u001b[1;33m(\u001b[0m\u001b[0mdf\u001b[0m\u001b[1;33m[\u001b[0m\u001b[1;34m'open'\u001b[0m\u001b[1;33m]\u001b[0m\u001b[1;33m,\u001b[0m \u001b[0mdf\u001b[0m\u001b[1;33m[\u001b[0m\u001b[1;34m'high'\u001b[0m\u001b[1;33m]\u001b[0m\u001b[1;33m,\u001b[0m \u001b[0mdf\u001b[0m\u001b[1;33m[\u001b[0m\u001b[1;34m'low'\u001b[0m\u001b[1;33m]\u001b[0m\u001b[1;33m,\u001b[0m \u001b[0mdf\u001b[0m\u001b[1;33m[\u001b[0m\u001b[1;34m'close'\u001b[0m\u001b[1;33m]\u001b[0m\u001b[1;33m)\u001b[0m\u001b[1;33m\u001b[0m\u001b[1;33m\u001b[0m\u001b[0m\n\u001b[0;32m      4\u001b[0m \u001b[0mdf\u001b[0m\u001b[1;33m[\u001b[0m\u001b[1;34m'piecing'\u001b[0m\u001b[1;33m]\u001b[0m \u001b[1;33m=\u001b[0m \u001b[0mtalib\u001b[0m\u001b[1;33m.\u001b[0m\u001b[0mCDLPIERCING\u001b[0m\u001b[1;33m(\u001b[0m\u001b[0mdf\u001b[0m\u001b[1;33m[\u001b[0m\u001b[1;34m'open'\u001b[0m\u001b[1;33m]\u001b[0m\u001b[1;33m,\u001b[0m \u001b[0mdf\u001b[0m\u001b[1;33m[\u001b[0m\u001b[1;34m'high'\u001b[0m\u001b[1;33m]\u001b[0m\u001b[1;33m,\u001b[0m \u001b[0mdf\u001b[0m\u001b[1;33m[\u001b[0m\u001b[1;34m'low'\u001b[0m\u001b[1;33m]\u001b[0m\u001b[1;33m,\u001b[0m \u001b[0mdf\u001b[0m\u001b[1;33m[\u001b[0m\u001b[1;34m'close'\u001b[0m\u001b[1;33m]\u001b[0m\u001b[1;33m)\u001b[0m\u001b[1;33m\u001b[0m\u001b[1;33m\u001b[0m\u001b[0m\n\u001b[0;32m      5\u001b[0m \u001b[0mdf\u001b[0m\u001b[1;33m[\u001b[0m\u001b[1;34m'englufing'\u001b[0m\u001b[1;33m]\u001b[0m \u001b[1;33m=\u001b[0m \u001b[0mtalib\u001b[0m\u001b[1;33m.\u001b[0m\u001b[0mCDLENGULFING\u001b[0m\u001b[1;33m(\u001b[0m\u001b[0mdf\u001b[0m\u001b[1;33m[\u001b[0m\u001b[1;34m'open'\u001b[0m\u001b[1;33m]\u001b[0m\u001b[1;33m,\u001b[0m \u001b[0mdf\u001b[0m\u001b[1;33m[\u001b[0m\u001b[1;34m'high'\u001b[0m\u001b[1;33m]\u001b[0m\u001b[1;33m,\u001b[0m \u001b[0mdf\u001b[0m\u001b[1;33m[\u001b[0m\u001b[1;34m'low'\u001b[0m\u001b[1;33m]\u001b[0m\u001b[1;33m,\u001b[0m \u001b[0mdf\u001b[0m\u001b[1;33m[\u001b[0m\u001b[1;34m'close'\u001b[0m\u001b[1;33m]\u001b[0m\u001b[1;33m)\u001b[0m\u001b[1;33m\u001b[0m\u001b[1;33m\u001b[0m\u001b[0m\n",
      "\u001b[1;31mAttributeError\u001b[0m: module 'talib' has no attribute 'C'"
     ]
    }
   ],
   "source": [
    "df['doji'] = talib.C(df['open'], df['high'], df['low'], df['close'])\n",
    "df['harami'] = talib.CDLHARAMI(df['open'], df['high'], df['low'], df['close'])\n",
    "df['kick'] = talib.CDLKICKING(df['open'], df['high'], df['low'], df['close'])\n",
    "df['piecing'] = talib.CDLPIERCING(df['open'], df['high'], df['low'], df['close'])\n",
    "df['englufing'] = talib.CDLENGULFING(df['open'], df['high'], df['low'], df['close'])\n",
    "df['hammer'] = talib.CDLHAMMER(df['open'], df['high'], df['low'], df['close'])"
   ]
  },
  {
   "cell_type": "code",
   "execution_count": 19,
   "id": "2b0a8da9",
   "metadata": {},
   "outputs": [],
   "source": [
    "df['morning_star'] = df['morning_star'].astype(bool)"
   ]
  },
  {
   "cell_type": "code",
   "execution_count": 20,
   "id": "ce3d8c94",
   "metadata": {},
   "outputs": [],
   "source": [
    "matched_times = df[df['morning_star']]['time']"
   ]
  },
  {
   "cell_type": "code",
   "execution_count": 21,
   "id": "fb458e00",
   "metadata": {},
   "outputs": [],
   "source": [
    "# Draw the lines for reference\n",
    "shapes_list = []\n",
    "annotation_list = []\n",
    "for time in matched_times:\n",
    "    shapes_list.append(dict(x0=time, x1=time, y0=0, y1=1, xref='x', yref='paper', line_width=1))\n",
    "    annotation_list.append(dict(x=time, y=0.05, xref='x', yref='paper', showarrow=False, xanchor='left', text='Hammer'))"
   ]
  },
  {
   "cell_type": "markdown",
   "id": "a0f70697",
   "metadata": {},
   "source": [
    "# Candle Chart\n",
    "Draw for single day regarless of dates"
   ]
  },
  {
   "cell_type": "code",
   "execution_count": 22,
   "id": "96f96035",
   "metadata": {},
   "outputs": [],
   "source": [
    "fig = go.Figure()\n",
    "\n",
    "fig.add_trace(go.Candlestick(x=df['time'],\n",
    "        open=df['open'],\n",
    "        high=df['high'],\n",
    "        low=df['low'],\n",
    "        close=df['close'],\n",
    "        text=df['close']))\n",
    "\n",
    "fig.update_layout(\n",
    "    title=f'Analysis on {day}',\n",
    "    yaxis_title='Price',\n",
    "    shapes = shapes_list,\n",
    "    annotations=annotation_list\n",
    ")\n",
    "\n",
    "import plotly.io as pio\n",
    "pio.renderers.default = 'browser'\n",
    "pio.show(fig)"
   ]
  },
  {
   "cell_type": "markdown",
   "id": "879e74c3",
   "metadata": {},
   "source": [
    "# Line Chart"
   ]
  },
  {
   "cell_type": "code",
   "execution_count": 13,
   "id": "658b4463",
   "metadata": {},
   "outputs": [],
   "source": [
    "line_data = df[['date', 'time' ,'average', 'open']].copy()"
   ]
  },
  {
   "cell_type": "code",
   "execution_count": 14,
   "id": "1d733820",
   "metadata": {},
   "outputs": [],
   "source": [
    "# Find the min open price\n",
    "min_open_price = line_data['open'].min()"
   ]
  },
  {
   "cell_type": "code",
   "execution_count": 15,
   "id": "7605e844",
   "metadata": {},
   "outputs": [],
   "source": [
    "# To bring all open price to 0, subtract open price from average\n",
    "line_data['avg_nor'] = line_data['average'] - line_data['open']"
   ]
  },
  {
   "cell_type": "code",
   "execution_count": 16,
   "id": "dab910e4",
   "metadata": {},
   "outputs": [],
   "source": [
    "dates = sorted(line_data['date'].unique())"
   ]
  },
  {
   "cell_type": "code",
   "execution_count": 17,
   "id": "a3cb5392",
   "metadata": {},
   "outputs": [],
   "source": [
    "fig = go.Figure()\n",
    "\n",
    "for date in dates:\n",
    "    data = line_data[line_data['date'] == date]\n",
    "    fig.add_trace(go.Scatter(x=data['time'], y=data['avg_nor'], name = date))\n",
    "\n",
    "import plotly.io as pio\n",
    "pio.renderers.default = 'browser'\n",
    "pio.show(fig)"
   ]
  },
  {
   "cell_type": "code",
   "execution_count": null,
   "id": "d889ac91",
   "metadata": {},
   "outputs": [],
   "source": []
  }
 ],
 "metadata": {
  "kernelspec": {
   "display_name": "Python 3",
   "language": "python",
   "name": "python3"
  },
  "language_info": {
   "codemirror_mode": {
    "name": "ipython",
    "version": 3
   },
   "file_extension": ".py",
   "mimetype": "text/x-python",
   "name": "python",
   "nbconvert_exporter": "python",
   "pygments_lexer": "ipython3",
   "version": "3.7.10"
  }
 },
 "nbformat": 4,
 "nbformat_minor": 5
}
