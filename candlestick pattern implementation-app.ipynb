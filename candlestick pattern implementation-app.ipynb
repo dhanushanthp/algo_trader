{
 "cells": [
  {
   "cell_type": "code",
   "execution_count": 1,
   "id": "bb1903ce",
   "metadata": {},
   "outputs": [],
   "source": [
    "import pandas as pd\n",
    "from datetime import datetime\n",
    "import plotly.graph_objects as go"
   ]
  },
  {
   "cell_type": "code",
   "execution_count": 2,
   "id": "81b520e8",
   "metadata": {},
   "outputs": [],
   "source": [
    "from glob import glob"
   ]
  },
  {
   "cell_type": "code",
   "execution_count": 3,
   "id": "4898f006",
   "metadata": {},
   "outputs": [],
   "source": [
    "import plotly\n",
    "import plotly.offline as py\n",
    "import plotly.graph_objs as go"
   ]
  },
  {
   "cell_type": "markdown",
   "id": "1c2b3abc",
   "metadata": {},
   "source": [
    "# Single Day Analysis"
   ]
  },
  {
   "cell_type": "code",
   "execution_count": 4,
   "id": "718ddee6",
   "metadata": {},
   "outputs": [],
   "source": [
    "# This provide the previous day night and current day mid morning day\n",
    "day = '20210501'"
   ]
  },
  {
   "cell_type": "code",
   "execution_count": 5,
   "id": "f4688770",
   "metadata": {},
   "outputs": [],
   "source": [
    "df = pd.read_csv(f'data/STK/1_min/TSLA/{day}.csv')"
   ]
  },
  {
   "cell_type": "code",
   "execution_count": 6,
   "id": "311000fe",
   "metadata": {},
   "outputs": [],
   "source": [
    "df['date'] = pd.to_datetime(df['date'])\n",
    "df.index = df['date']"
   ]
  },
  {
   "cell_type": "code",
   "execution_count": 7,
   "id": "fc5ed83d",
   "metadata": {},
   "outputs": [],
   "source": [
    "# Filter by trading hours\n",
    "df = df.between_time('21:30', '23:50')"
   ]
  },
  {
   "cell_type": "code",
   "execution_count": 8,
   "id": "8af424c6",
   "metadata": {},
   "outputs": [],
   "source": [
    "# Reset Index\n",
    "df.reset_index(drop=True, inplace=True)"
   ]
  },
  {
   "cell_type": "code",
   "execution_count": 9,
   "id": "9a91735e",
   "metadata": {},
   "outputs": [],
   "source": [
    "# Create time entry\n",
    "df['time'] = df['date'].dt.time\n",
    "df['date_str'] = df['date'].dt.date.apply(lambda x: x.strftime('%Y-%m-%d'))"
   ]
  },
  {
   "cell_type": "code",
   "execution_count": 10,
   "id": "30ce20ab",
   "metadata": {},
   "outputs": [],
   "source": [
    "df['date'] = df['date'].apply(lambda x: int(x.timestamp()))"
   ]
  },
  {
   "cell_type": "code",
   "execution_count": 11,
   "id": "37988b97",
   "metadata": {},
   "outputs": [],
   "source": [
    "# Find the close price on another n time stamps, the timestamp may vary based on time frame (e.g. 1min, 2 min, 5 min)\n",
    "# This will help to understand the price movement up or down and by price\n",
    "# Change in price + or -\n",
    "# Calculate the close price difference and find the percentage of price change\n",
    "df['t+1'] = (((df['close'].shift(-1) - df['close'])/df['close']) * 100).round(2)\n",
    "df['t+2'] = (((df['close'].shift(-2) - df['close'])/df['close']) * 100).round(2)\n",
    "df['t+3'] = (((df['close'].shift(-3) - df['close'])/df['close']) * 100).round(2)\n",
    "df['t+4'] = (((df['close'].shift(-4) - df['close'])/df['close']) * 100).round(2)"
   ]
  },
  {
   "cell_type": "code",
   "execution_count": 12,
   "id": "5dbd7cbf",
   "metadata": {},
   "outputs": [],
   "source": [
    "df['merged'] = df.apply(lambda x: [x['open'], x['high'], x['low'], x['close']], axis=1)"
   ]
  },
  {
   "cell_type": "markdown",
   "id": "4b83991f",
   "metadata": {},
   "source": [
    "## Generate patterns"
   ]
  },
  {
   "cell_type": "code",
   "execution_count": 142,
   "id": "461e3539",
   "metadata": {},
   "outputs": [],
   "source": [
    "from src.strategies.candle_stick import CandleStick"
   ]
  },
  {
   "cell_type": "code",
   "execution_count": 143,
   "id": "f0237622",
   "metadata": {},
   "outputs": [],
   "source": [
    "patterns = ['CDLHARAMI', 'CDLDOJI', 'CDLENGULFING']"
   ]
  },
  {
   "cell_type": "code",
   "execution_count": 144,
   "id": "df83fe12",
   "metadata": {},
   "outputs": [],
   "source": [
    "cld_obj = CandleStick(patterns)"
   ]
  },
  {
   "cell_type": "code",
   "execution_count": 145,
   "id": "5e5704b8",
   "metadata": {},
   "outputs": [],
   "source": [
    "output = cld_obj.generate_pattern(df)"
   ]
  },
  {
   "cell_type": "code",
   "execution_count": 146,
   "id": "9fcd9bda",
   "metadata": {},
   "outputs": [],
   "source": [
    "output['CDLHARAMI_B'] = output['CDLHARAMI'].astype(bool)"
   ]
  },
  {
   "cell_type": "code",
   "execution_count": 147,
   "id": "b5e3101f",
   "metadata": {},
   "outputs": [],
   "source": [
    "seleted_columns = patterns + ['date']"
   ]
  },
  {
   "cell_type": "code",
   "execution_count": 155,
   "id": "c1929643",
   "metadata": {},
   "outputs": [],
   "source": [
    "candles = output[['date']+ patterns] "
   ]
  },
  {
   "cell_type": "code",
   "execution_count": 156,
   "id": "f8887e54",
   "metadata": {},
   "outputs": [],
   "source": [
    "candles = candles.melt(id_vars=['date'], \n",
    "        var_name=\"cdl_pattern\", \n",
    "        value_name=\"pattern_check\")"
   ]
  },
  {
   "cell_type": "code",
   "execution_count": 157,
   "id": "71d58e76",
   "metadata": {},
   "outputs": [],
   "source": [
    "candles['cdl_pattern'] = candles['cdl_pattern'].apply(lambda x: x.replace('CDL', '')[0:4])"
   ]
  },
  {
   "cell_type": "code",
   "execution_count": 158,
   "id": "a5b149be",
   "metadata": {},
   "outputs": [],
   "source": [
    "candles = candles[candles['pattern_check'].astype(bool)]"
   ]
  },
  {
   "cell_type": "code",
   "execution_count": 159,
   "id": "1285e7cc",
   "metadata": {},
   "outputs": [],
   "source": [
    "candles['direction'] = candles['pattern_check'].apply(lambda x: tag_direction(x))\n",
    "candles['cdl_pattern'] = candles['cdl_pattern'] + candles['direction']"
   ]
  },
  {
   "cell_type": "code",
   "execution_count": 160,
   "id": "d6721e11",
   "metadata": {},
   "outputs": [],
   "source": [
    "candles = candles.groupby(['date'])['cdl_pattern'].agg(list).reset_index()"
   ]
  },
  {
   "cell_type": "code",
   "execution_count": 161,
   "id": "f5411595",
   "metadata": {},
   "outputs": [
    {
     "data": {
      "text/html": [
       "<div>\n",
       "<style scoped>\n",
       "    .dataframe tbody tr th:only-of-type {\n",
       "        vertical-align: middle;\n",
       "    }\n",
       "\n",
       "    .dataframe tbody tr th {\n",
       "        vertical-align: top;\n",
       "    }\n",
       "\n",
       "    .dataframe thead th {\n",
       "        text-align: right;\n",
       "    }\n",
       "</style>\n",
       "<table border=\"1\" class=\"dataframe\">\n",
       "  <thead>\n",
       "    <tr style=\"text-align: right;\">\n",
       "      <th></th>\n",
       "      <th>date</th>\n",
       "      <th>cdl_pattern</th>\n",
       "    </tr>\n",
       "  </thead>\n",
       "  <tbody>\n",
       "    <tr>\n",
       "      <th>0</th>\n",
       "      <td>1619818680</td>\n",
       "      <td>[ENGU +]</td>\n",
       "    </tr>\n",
       "    <tr>\n",
       "      <th>1</th>\n",
       "      <td>1619818980</td>\n",
       "      <td>[DOJI +]</td>\n",
       "    </tr>\n",
       "    <tr>\n",
       "      <th>2</th>\n",
       "      <td>1619819040</td>\n",
       "      <td>[ENGU +]</td>\n",
       "    </tr>\n",
       "    <tr>\n",
       "      <th>3</th>\n",
       "      <td>1619819460</td>\n",
       "      <td>[HARA -]</td>\n",
       "    </tr>\n",
       "    <tr>\n",
       "      <th>4</th>\n",
       "      <td>1619819580</td>\n",
       "      <td>[ENGU +]</td>\n",
       "    </tr>\n",
       "  </tbody>\n",
       "</table>\n",
       "</div>"
      ],
      "text/plain": [
       "         date cdl_pattern\n",
       "0  1619818680    [ENGU +]\n",
       "1  1619818980    [DOJI +]\n",
       "2  1619819040    [ENGU +]\n",
       "3  1619819460    [HARA -]\n",
       "4  1619819580    [ENGU +]"
      ]
     },
     "execution_count": 161,
     "metadata": {},
     "output_type": "execute_result"
    }
   ],
   "source": [
    "candles.head()"
   ]
  },
  {
   "cell_type": "code",
   "execution_count": 162,
   "id": "39d8584f",
   "metadata": {},
   "outputs": [],
   "source": [
    "def tag_direction(direction):\n",
    "    if direction > 0:\n",
    "        return ' +'\n",
    "    elif direction < 0:\n",
    "        return ' -'\n",
    "    else:\n",
    "        return ''"
   ]
  },
  {
   "cell_type": "code",
   "execution_count": 163,
   "id": "03fecf37",
   "metadata": {},
   "outputs": [],
   "source": [
    "candles['cdl_pattern'] = candles['cdl_pattern'].apply(lambda x: ' | '.join(x))"
   ]
  },
  {
   "cell_type": "code",
   "execution_count": 164,
   "id": "d757d5f7",
   "metadata": {},
   "outputs": [],
   "source": [
    "list_of_patterns = []\n",
    "for element in candles.values:\n",
    "    list_of_patterns.append({'x': int(element[0]), 'label':{'text': element[1]}})"
   ]
  },
  {
   "cell_type": "code",
   "execution_count": 165,
   "id": "c01643fc",
   "metadata": {},
   "outputs": [
    {
     "data": {
      "text/plain": [
       "[{'x': 1619818680, 'label': {'text': 'ENGU +'}},\n",
       " {'x': 1619818980, 'label': {'text': 'DOJI +'}},\n",
       " {'x': 1619819040, 'label': {'text': 'ENGU +'}},\n",
       " {'x': 1619819460, 'label': {'text': 'HARA -'}},\n",
       " {'x': 1619819580, 'label': {'text': 'ENGU +'}},\n",
       " {'x': 1619820540, 'label': {'text': 'DOJI +'}},\n",
       " {'x': 1619821440, 'label': {'text': 'HARA - | DOJI +'}},\n",
       " {'x': 1619821500, 'label': {'text': 'ENGU -'}},\n",
       " {'x': 1619821740, 'label': {'text': 'HARA -'}},\n",
       " {'x': 1619822040, 'label': {'text': 'DOJI +'}},\n",
       " {'x': 1619822400, 'label': {'text': 'ENGU +'}},\n",
       " {'x': 1619822460, 'label': {'text': 'DOJI +'}},\n",
       " {'x': 1619822580, 'label': {'text': 'DOJI +'}},\n",
       " {'x': 1619822700, 'label': {'text': 'DOJI +'}},\n",
       " {'x': 1619823060, 'label': {'text': 'HARA +'}},\n",
       " {'x': 1619823240, 'label': {'text': 'DOJI +'}},\n",
       " {'x': 1619823480, 'label': {'text': 'DOJI +'}},\n",
       " {'x': 1619823840, 'label': {'text': 'DOJI +'}},\n",
       " {'x': 1619823900, 'label': {'text': 'ENGU +'}},\n",
       " {'x': 1619824200, 'label': {'text': 'DOJI +'}},\n",
       " {'x': 1619824620, 'label': {'text': 'HARA +'}},\n",
       " {'x': 1619824740, 'label': {'text': 'ENGU -'}},\n",
       " {'x': 1619824800, 'label': {'text': 'HARA +'}},\n",
       " {'x': 1619824980, 'label': {'text': 'ENGU +'}},\n",
       " {'x': 1619825040, 'label': {'text': 'DOJI +'}},\n",
       " {'x': 1619825160, 'label': {'text': 'ENGU +'}},\n",
       " {'x': 1619825280, 'label': {'text': 'HARA +'}},\n",
       " {'x': 1619825640, 'label': {'text': 'DOJI +'}},\n",
       " {'x': 1619825820, 'label': {'text': 'DOJI +'}},\n",
       " {'x': 1619826060, 'label': {'text': 'HARA -'}},\n",
       " {'x': 1619826360, 'label': {'text': 'DOJI +'}},\n",
       " {'x': 1619826600, 'label': {'text': 'DOJI +'}}]"
      ]
     },
     "execution_count": 165,
     "metadata": {},
     "output_type": "execute_result"
    }
   ],
   "source": [
    "list_of_patterns"
   ]
  },
  {
   "cell_type": "code",
   "execution_count": 32,
   "id": "bf7f6aea",
   "metadata": {},
   "outputs": [
    {
     "data": {
      "text/plain": [
       "array([   0,  100, -100])"
      ]
     },
     "execution_count": 32,
     "metadata": {},
     "output_type": "execute_result"
    }
   ],
   "source": [
    "output['CDLENGULFING'].unique()"
   ]
  },
  {
   "cell_type": "markdown",
   "id": "81b91bfe",
   "metadata": {},
   "source": [
    "## Simulator data"
   ]
  },
  {
   "cell_type": "code",
   "execution_count": 27,
   "id": "25341155",
   "metadata": {},
   "outputs": [],
   "source": [
    "import pandas as pd"
   ]
  },
  {
   "cell_type": "code",
   "execution_count": 33,
   "id": "bd22fdec",
   "metadata": {},
   "outputs": [],
   "source": [
    "data = pd.read_csv('data/STK/1_min/TSLA/20210501.csv')"
   ]
  },
  {
   "cell_type": "code",
   "execution_count": 34,
   "id": "fe33a399",
   "metadata": {},
   "outputs": [],
   "source": [
    "# data['date'] = pd.to_datetime(data['date'])\n",
    "# Index date time for filtering purpose\n",
    "data.index = pd.to_datetime(data['date'])\n",
    "\n",
    "# Filter by trading hours, Since my focus is for till 12 AM and most volatile time\n",
    "data = data.between_time('21:30', '23:50').copy().reset_index(drop=True)"
   ]
  },
  {
   "cell_type": "code",
   "execution_count": 44,
   "id": "e8951b63",
   "metadata": {},
   "outputs": [
    {
     "data": {
      "text/plain": [
       "['20210430  21:30:00,667.59,670.0,666.14,668.11,2390,573,668.009',\n",
       " '20210430  21:31:00,667.72,672.73,667.52,671.23,1179,587,670.746',\n",
       " '20210430  21:32:00,671.6,672.0,669.29,670.69,695,370,670.606',\n",
       " '20210430  21:33:00,670.82,671.52,669.86,670.39,550,303,670.675',\n",
       " '20210430  21:34:00,670.94,671.6,669.5,670.0,532,333,670.607',\n",
       " '20210430  21:35:00,670.03,670.81,668.0,669.18,623,370,669.296',\n",
       " '20210430  21:36:00,669.21,670.35,668.22,668.96,609,303,669.274',\n",
       " '20210430  21:37:00,669.3,669.97,667.59,668.99,678,313,668.858',\n",
       " '20210430  21:38:00,668.86,671.71,668.67,670.92,844,456,670.284',\n",
       " '20210430  21:39:00,670.81,672.47,670.74,671.97,956,478,671.959',\n",
       " '20210430  21:40:00,672.05,672.61,671.04,672.43,470,300,671.962',\n",
       " '20210430  21:41:00,672.44,673.85,671.88,672.88,638,299,672.973',\n",
       " '20210430  21:42:00,672.88,673.2,671.82,672.34,405,236,672.51',\n",
       " '20210430  21:43:00,672.41,672.86,671.83,672.35,315,177,672.376',\n",
       " '20210430  21:44:00,672.18,673.09,671.8,672.55,404,219,672.539',\n",
       " '20210430  21:45:00,672.68,674.49,672.31,674.27,646,334,673.458',\n",
       " '20210430  21:46:00,674.39,674.83,673.94,674.64,471,282,674.435',\n",
       " '20210430  21:47:00,674.54,675.18,673.94,675.08,591,318,674.714',\n",
       " '20210430  21:48:00,675.17,676.7,674.67,676.44,524,282,675.421',\n",
       " '20210430  21:49:00,676.31,677.68,675.69,677.54,1023,482,676.654',\n",
       " '20210430  21:50:00,677.66,680.77,677.39,680.56,1712,938,678.918',\n",
       " '20210430  21:51:00,680.5,680.53,678.8,679.85,1062,582,679.631',\n",
       " '20210430  21:52:00,679.98,680.18,678.79,679.1,686,449,679.53',\n",
       " '20210430  21:53:00,679.0,680.72,678.53,680.59,1071,513,679.504',\n",
       " '20210430  21:54:00,680.72,681.08,679.67,680.22,772,454,680.42',\n",
       " '20210430  21:55:00,680.26,681.19,678.8,679.03,819,497,680.215',\n",
       " '20210430  21:56:00,679.05,680.25,678.9,680.25,641,387,679.545',\n",
       " '20210430  21:57:00,680.32,682.7,680.26,682.53,1298,745,681.833',\n",
       " '20210430  21:58:00,682.63,683.05,681.52,682.19,955,540,682.34',\n",
       " '20210430  21:59:00,682.25,683.14,682.16,682.54,713,372,682.629',\n",
       " '20210430  22:00:00,682.41,683.83,682.2,683.59,807,416,683.038',\n",
       " '20210430  22:01:00,683.5,685.33,683.44,684.42,1224,718,684.328',\n",
       " '20210430  22:02:00,684.4,685.17,684.3,684.89,1000,602,684.772',\n",
       " '20210430  22:03:00,684.89,685.48,683.96,685.38,840,484,684.967',\n",
       " '20210430  22:04:00,685.32,686.86,684.54,685.09,2019,995,685.83',\n",
       " '20210430  22:05:00,685.14,685.15,683.4,683.43,1040,681,684.198',\n",
       " '20210430  22:06:00,683.43,684.29,682.82,684.16,904,599,683.466',\n",
       " '20210430  22:07:00,684.1,686.66,684.09,686.52,1128,640,685.582',\n",
       " '20210430  22:08:00,686.6,687.98,685.69,687.47,1027,569,686.822',\n",
       " '20210430  22:09:00,687.46,688.59,687.29,687.55,1507,920,688.05',\n",
       " '20210430  22:10:00,687.53,688.34,686.87,688.27,726,415,687.536',\n",
       " '20210430  22:11:00,688.17,690.44,687.97,689.61,1527,863,689.197',\n",
       " '20210430  22:12:00,689.73,689.83,688.8,688.81,952,563,689.255',\n",
       " '20210430  22:13:00,688.85,689.48,687.1,687.58,936,566,688.406',\n",
       " '20210430  22:14:00,687.67,688.59,686.19,686.47,1077,650,687.472',\n",
       " '20210430  22:15:00,686.38,688.07,686.38,687.57,810,457,687.348',\n",
       " '20210430  22:16:00,687.73,688.57,686.32,686.91,881,450,687.677',\n",
       " '20210430  22:17:00,686.99,687.81,686.88,687.27,421,267,687.376',\n",
       " '20210430  22:18:00,687.24,688.72,687.19,688.4,634,355,688.155',\n",
       " '20210430  22:19:00,688.4,689.21,688.02,689.05,709,441,688.79',\n",
       " '20210430  22:20:00,688.95,689.82,688.47,688.76,1018,593,689.005',\n",
       " '20210430  22:21:00,688.63,688.64,687.56,687.83,694,454,688.024',\n",
       " '20210430  22:22:00,687.83,689.14,687.77,688.41,492,324,688.729',\n",
       " '20210430  22:23:00,688.36,690.83,688.03,690.77,1015,578,689.442',\n",
       " '20210430  22:24:00,690.71,691.13,690.18,690.74,823,499,690.688',\n",
       " '20210430  22:25:00,690.79,690.98,689.78,690.1,728,426,690.222',\n",
       " '20210430  22:26:00,690.05,690.71,689.92,690.54,544,329,690.338',\n",
       " '20210430  22:27:00,690.65,691.5,689.8,690.27,725,398,690.626',\n",
       " '20210430  22:28:00,690.38,692.44,690.38,692.16,820,448,691.397',\n",
       " '20210430  22:29:00,692.11,692.27,691.33,691.67,701,415,691.683',\n",
       " '20210430  22:30:00,691.71,692.29,691.51,691.99,562,337,692.025',\n",
       " '20210430  22:31:00,692.21,694.0,691.97,693.56,1132,583,693.124',\n",
       " '20210430  22:32:00,693.61,693.76,693.09,693.4,698,439,693.47',\n",
       " '20210430  22:33:00,693.49,695.21,693.31,694.84,1332,726,694.318',\n",
       " '20210430  22:34:00,694.84,695.23,694.35,694.81,887,520,694.84',\n",
       " '20210430  22:35:00,694.85,696.29,694.71,696.12,1020,572,695.661',\n",
       " '20210430  22:36:00,696.2,696.6,695.23,695.71,1114,648,696.08',\n",
       " '20210430  22:37:00,695.71,696.49,694.22,694.33,1014,618,695.549',\n",
       " '20210430  22:38:00,694.37,695.12,693.31,693.31,1549,794,694.044',\n",
       " '20210430  22:39:00,693.31,693.36,692.22,692.57,1261,730,692.66',\n",
       " '20210430  22:40:00,692.5,694.39,692.15,693.97,1249,567,693.269',\n",
       " '20210430  22:41:00,694.08,694.49,693.18,694.01,1037,497,693.805',\n",
       " '20210430  22:42:00,694.05,694.96,693.97,694.88,569,286,694.399',\n",
       " '20210430  22:43:00,694.87,695.0,693.93,694.93,613,424,694.653',\n",
       " '20210430  22:44:00,694.84,698.62,694.63,697.92,1939,1004,696.99',\n",
       " '20210430  22:45:00,697.92,698.62,697.01,697.9,1120,579,697.972',\n",
       " '20210430  22:46:00,697.99,698.98,697.82,698.96,1073,506,698.31',\n",
       " '20210430  22:47:00,698.93,699.9,698.79,699.84,1124,657,699.302',\n",
       " '20210430  22:48:00,699.84,699.97,697.62,698.44,1086,630,698.986',\n",
       " '20210430  22:49:00,698.4,698.81,697.16,697.32,723,432,697.887',\n",
       " '20210430  22:50:00,697.34,697.4,695.62,695.81,1184,639,696.29',\n",
       " '20210430  22:51:00,695.92,696.34,695.0,696.3,758,417,695.798',\n",
       " '20210430  22:52:00,696.38,698.07,696.38,697.73,961,519,697.248',\n",
       " '20210430  22:53:00,697.65,697.78,695.53,695.98,933,503,696.34',\n",
       " '20210430  22:54:00,696.04,696.37,695.35,695.97,505,287,695.797',\n",
       " '20210430  22:55:00,696.12,696.61,694.51,694.92,916,557,695.428',\n",
       " '20210430  22:56:00,694.83,695.35,694.31,695.21,545,343,694.836',\n",
       " '20210430  22:57:00,695.27,696.86,695.09,696.85,577,290,696.091',\n",
       " '20210430  22:58:00,697.0,698.31,696.35,696.9,1032,490,697.365',\n",
       " '20210430  22:59:00,696.98,697.64,695.65,696.14,507,343,696.719',\n",
       " '20210430  23:00:00,696.2,696.43,694.56,694.58,844,539,695.053',\n",
       " '20210430  23:01:00,694.68,694.71,692.77,693.24,1488,835,693.429',\n",
       " '20210430  23:02:00,693.34,693.5,692.59,692.75,859,526,693.21',\n",
       " '20210430  23:03:00,692.83,694.57,692.83,694.14,938,462,693.603',\n",
       " '20210430  23:04:00,694.15,694.89,693.45,694.03,606,336,694.256',\n",
       " '20210430  23:05:00,694.0,694.57,693.64,694.49,332,184,694.15',\n",
       " '20210430  23:06:00,694.42,694.46,693.25,693.7,393,227,693.845',\n",
       " '20210430  23:07:00,693.83,694.22,693.25,694.22,400,224,693.769',\n",
       " '20210430  23:08:00,694.32,695.99,694.32,694.77,851,493,695.218',\n",
       " '20210430  23:09:00,694.9,696.23,694.53,696.1,518,276,695.269',\n",
       " '20210430  23:10:00,696.13,696.27,695.63,696.07,551,302,695.967',\n",
       " '20210430  23:11:00,696.19,696.63,695.67,696.63,581,308,696.214',\n",
       " '20210430  23:12:00,696.59,697.9,696.5,697.8,696,376,697.149',\n",
       " '20210430  23:13:00,697.75,698.6,697.44,698.24,1051,596,697.974',\n",
       " '20210430  23:14:00,698.15,698.56,697.45,697.54,731,428,697.998',\n",
       " '20210430  23:15:00,697.53,697.65,695.34,696.07,670,362,696.384',\n",
       " '20210430  23:16:00,696.07,696.24,694.23,694.49,703,471,695.203',\n",
       " '20210430  23:17:00,694.51,695.78,694.4,695.25,557,365,694.79',\n",
       " '20210430  23:18:00,695.2,696.25,695.2,695.46,469,313,695.722',\n",
       " '20210430  23:19:00,695.61,696.11,694.22,694.49,684,352,694.815',\n",
       " '20210430  23:20:00,694.52,695.69,693.38,695.31,596,320,694.666',\n",
       " '20210430  23:21:00,695.29,697.32,694.9,696.99,615,342,696.46',\n",
       " '20210430  23:22:00,697.0,697.8,695.38,696.43,517,329,696.894',\n",
       " '20210430  23:23:00,696.29,697.25,696.21,697.08,346,215,696.771',\n",
       " '20210430  23:24:00,697.07,697.27,696.4,696.93,262,187,696.869',\n",
       " '20210430  23:25:00,696.89,697.2,695.93,696.42,300,202,696.458',\n",
       " '20210430  23:26:00,696.31,697.5,695.7,697.47,474,303,696.706',\n",
       " '20210430  23:27:00,697.43,697.84,695.63,696.1,601,333,696.838',\n",
       " '20210430  23:28:00,696.12,696.57,695.6,696.53,309,209,696.104',\n",
       " '20210430  23:29:00,696.67,697.36,696.0,697.31,380,245,696.951',\n",
       " '20210430  23:30:00,697.31,697.31,695.6,696.88,367,281,696.324',\n",
       " '20210430  23:31:00,696.9,698.19,696.9,697.69,825,484,697.693',\n",
       " '20210430  23:32:00,697.64,699.35,697.64,699.0,933,597,698.785',\n",
       " '20210430  23:33:00,699.08,701.5,698.92,701.26,1280,679,700.411',\n",
       " '20210430  23:34:00,701.26,701.38,700.39,701.38,770,407,700.813',\n",
       " '20210430  23:35:00,701.28,702.22,700.97,701.96,1090,547,701.722',\n",
       " '20210430  23:36:00,701.9,702.65,701.57,702.65,731,374,702.156',\n",
       " '20210430  23:37:00,702.71,703.39,702.09,702.77,1471,726,702.815',\n",
       " '20210430  23:38:00,702.74,704.0,702.65,703.86,1067,494,703.586',\n",
       " '20210430  23:39:00,703.86,704.03,703.22,703.33,725,437,703.687',\n",
       " '20210430  23:40:00,703.37,704.61,703.37,704.48,1024,456,704.039',\n",
       " '20210430  23:41:00,704.44,704.98,703.39,704.21,1426,691,704.535',\n",
       " '20210430  23:42:00,704.22,704.26,702.3,702.85,1247,792,702.8',\n",
       " '20210430  23:43:00,702.94,703.53,702.54,702.61,792,450,702.954',\n",
       " '20210430  23:44:00,702.64,703.17,702.3,702.91,481,334,702.735',\n",
       " '20210430  23:45:00,702.97,703.28,702.45,702.72,479,334,702.842',\n",
       " '20210430  23:46:00,702.82,703.0,702.33,702.9,355,206,702.777',\n",
       " '20210430  23:47:00,702.86,702.91,701.76,701.96,534,344,702.227',\n",
       " '20210430  23:48:00,702.06,703.4,702.01,703.4,562,293,702.654',\n",
       " '20210430  23:49:00,703.45,703.85,702.55,702.73,559,289,703.247',\n",
       " '20210430  23:50:00,702.8,702.98,702.22,702.69,300,193,702.67']"
      ]
     },
     "execution_count": 44,
     "metadata": {},
     "output_type": "execute_result"
    }
   ],
   "source": [
    "lines = [','.join(list(str(x) for x in i)) for i in data.values]"
   ]
  },
  {
   "cell_type": "code",
   "execution_count": 15,
   "id": "6240d06d",
   "metadata": {},
   "outputs": [],
   "source": [
    "df['date'] = pd.to_datetime(df['date'])"
   ]
  },
  {
   "cell_type": "code",
   "execution_count": 16,
   "id": "3b4eedf2",
   "metadata": {},
   "outputs": [
    {
     "data": {
      "text/html": [
       "<div>\n",
       "<style scoped>\n",
       "    .dataframe tbody tr th:only-of-type {\n",
       "        vertical-align: middle;\n",
       "    }\n",
       "\n",
       "    .dataframe tbody tr th {\n",
       "        vertical-align: top;\n",
       "    }\n",
       "\n",
       "    .dataframe thead th {\n",
       "        text-align: right;\n",
       "    }\n",
       "</style>\n",
       "<table border=\"1\" class=\"dataframe\">\n",
       "  <thead>\n",
       "    <tr style=\"text-align: right;\">\n",
       "      <th></th>\n",
       "      <th>date</th>\n",
       "      <th>open</th>\n",
       "      <th>high</th>\n",
       "      <th>low</th>\n",
       "      <th>close</th>\n",
       "      <th>volume</th>\n",
       "      <th>barCount</th>\n",
       "      <th>average</th>\n",
       "    </tr>\n",
       "  </thead>\n",
       "  <tbody>\n",
       "    <tr>\n",
       "      <th>0</th>\n",
       "      <td>2021-04-30 16:02:00</td>\n",
       "      <td>673.01</td>\n",
       "      <td>673.01</td>\n",
       "      <td>672.91</td>\n",
       "      <td>672.91</td>\n",
       "      <td>5</td>\n",
       "      <td>2</td>\n",
       "      <td>672.928</td>\n",
       "    </tr>\n",
       "    <tr>\n",
       "      <th>1</th>\n",
       "      <td>2021-04-30 16:03:00</td>\n",
       "      <td>672.91</td>\n",
       "      <td>672.91</td>\n",
       "      <td>672.91</td>\n",
       "      <td>672.91</td>\n",
       "      <td>0</td>\n",
       "      <td>0</td>\n",
       "      <td>672.910</td>\n",
       "    </tr>\n",
       "    <tr>\n",
       "      <th>2</th>\n",
       "      <td>2021-04-30 16:04:00</td>\n",
       "      <td>672.00</td>\n",
       "      <td>672.00</td>\n",
       "      <td>672.00</td>\n",
       "      <td>672.00</td>\n",
       "      <td>3</td>\n",
       "      <td>2</td>\n",
       "      <td>672.000</td>\n",
       "    </tr>\n",
       "    <tr>\n",
       "      <th>3</th>\n",
       "      <td>2021-04-30 16:05:00</td>\n",
       "      <td>671.94</td>\n",
       "      <td>672.00</td>\n",
       "      <td>671.70</td>\n",
       "      <td>671.70</td>\n",
       "      <td>3</td>\n",
       "      <td>3</td>\n",
       "      <td>671.895</td>\n",
       "    </tr>\n",
       "    <tr>\n",
       "      <th>4</th>\n",
       "      <td>2021-04-30 16:06:00</td>\n",
       "      <td>671.70</td>\n",
       "      <td>671.70</td>\n",
       "      <td>671.70</td>\n",
       "      <td>671.70</td>\n",
       "      <td>0</td>\n",
       "      <td>0</td>\n",
       "      <td>671.700</td>\n",
       "    </tr>\n",
       "    <tr>\n",
       "      <th>...</th>\n",
       "      <td>...</td>\n",
       "      <td>...</td>\n",
       "      <td>...</td>\n",
       "      <td>...</td>\n",
       "      <td>...</td>\n",
       "      <td>...</td>\n",
       "      <td>...</td>\n",
       "      <td>...</td>\n",
       "    </tr>\n",
       "    <tr>\n",
       "      <th>953</th>\n",
       "      <td>2021-05-01 07:55:00</td>\n",
       "      <td>710.00</td>\n",
       "      <td>710.00</td>\n",
       "      <td>709.99</td>\n",
       "      <td>709.99</td>\n",
       "      <td>2</td>\n",
       "      <td>2</td>\n",
       "      <td>709.996</td>\n",
       "    </tr>\n",
       "    <tr>\n",
       "      <th>954</th>\n",
       "      <td>2021-05-01 07:56:00</td>\n",
       "      <td>709.99</td>\n",
       "      <td>710.01</td>\n",
       "      <td>709.99</td>\n",
       "      <td>710.01</td>\n",
       "      <td>2</td>\n",
       "      <td>2</td>\n",
       "      <td>709.999</td>\n",
       "    </tr>\n",
       "    <tr>\n",
       "      <th>955</th>\n",
       "      <td>2021-05-01 07:57:00</td>\n",
       "      <td>710.21</td>\n",
       "      <td>710.21</td>\n",
       "      <td>710.21</td>\n",
       "      <td>710.21</td>\n",
       "      <td>1</td>\n",
       "      <td>1</td>\n",
       "      <td>710.210</td>\n",
       "    </tr>\n",
       "    <tr>\n",
       "      <th>956</th>\n",
       "      <td>2021-05-01 07:58:00</td>\n",
       "      <td>710.21</td>\n",
       "      <td>710.21</td>\n",
       "      <td>710.15</td>\n",
       "      <td>710.21</td>\n",
       "      <td>7</td>\n",
       "      <td>5</td>\n",
       "      <td>710.177</td>\n",
       "    </tr>\n",
       "    <tr>\n",
       "      <th>957</th>\n",
       "      <td>2021-05-01 07:59:00</td>\n",
       "      <td>710.20</td>\n",
       "      <td>710.20</td>\n",
       "      <td>710.00</td>\n",
       "      <td>710.00</td>\n",
       "      <td>34</td>\n",
       "      <td>5</td>\n",
       "      <td>710.044</td>\n",
       "    </tr>\n",
       "  </tbody>\n",
       "</table>\n",
       "<p>958 rows × 8 columns</p>\n",
       "</div>"
      ],
      "text/plain": [
       "                   date    open    high     low   close  volume  barCount  \\\n",
       "0   2021-04-30 16:02:00  673.01  673.01  672.91  672.91       5         2   \n",
       "1   2021-04-30 16:03:00  672.91  672.91  672.91  672.91       0         0   \n",
       "2   2021-04-30 16:04:00  672.00  672.00  672.00  672.00       3         2   \n",
       "3   2021-04-30 16:05:00  671.94  672.00  671.70  671.70       3         3   \n",
       "4   2021-04-30 16:06:00  671.70  671.70  671.70  671.70       0         0   \n",
       "..                  ...     ...     ...     ...     ...     ...       ...   \n",
       "953 2021-05-01 07:55:00  710.00  710.00  709.99  709.99       2         2   \n",
       "954 2021-05-01 07:56:00  709.99  710.01  709.99  710.01       2         2   \n",
       "955 2021-05-01 07:57:00  710.21  710.21  710.21  710.21       1         1   \n",
       "956 2021-05-01 07:58:00  710.21  710.21  710.15  710.21       7         5   \n",
       "957 2021-05-01 07:59:00  710.20  710.20  710.00  710.00      34         5   \n",
       "\n",
       "     average  \n",
       "0    672.928  \n",
       "1    672.910  \n",
       "2    672.000  \n",
       "3    671.895  \n",
       "4    671.700  \n",
       "..       ...  \n",
       "953  709.996  \n",
       "954  709.999  \n",
       "955  710.210  \n",
       "956  710.177  \n",
       "957  710.044  \n",
       "\n",
       "[958 rows x 8 columns]"
      ]
     },
     "execution_count": 16,
     "metadata": {},
     "output_type": "execute_result"
    }
   ],
   "source": [
    "df"
   ]
  },
  {
   "cell_type": "code",
   "execution_count": 6,
   "id": "8632770b",
   "metadata": {},
   "outputs": [],
   "source": [
    "adf = pd.read_csv(f'realtime_data/data.csv', names=['date', 'open', 'high', 'low', 'close', 'volume', 'barCount', 'average'])"
   ]
  },
  {
   "cell_type": "code",
   "execution_count": 8,
   "id": "161b7855",
   "metadata": {},
   "outputs": [
    {
     "data": {
      "text/plain": [
       "0     20210430  16:02:00\n",
       "1     20210430  16:03:00\n",
       "2     20210430  16:04:00\n",
       "3     20210430  16:05:00\n",
       "4     20210430  16:06:00\n",
       "5     20210430  16:07:00\n",
       "6     20210430  16:08:00\n",
       "7     20210430  16:09:00\n",
       "8     20210430  16:10:00\n",
       "9     20210430  16:11:00\n",
       "10    20210430  16:12:00\n",
       "11    20210430  16:13:00\n",
       "12    20210430  16:14:00\n",
       "13    20210430  16:15:00\n",
       "14    20210430  16:16:00\n",
       "15    20210430  16:17:00\n",
       "16    20210430  16:18:00\n",
       "17    20210430  16:19:00\n",
       "18    20210430  16:20:00\n",
       "19    20210430  16:21:00\n",
       "20    20210430  16:22:00\n",
       "21    20210430  16:23:00\n",
       "22    20210430  16:24:00\n",
       "Name: date, dtype: object"
      ]
     },
     "execution_count": 8,
     "metadata": {},
     "output_type": "execute_result"
    }
   ],
   "source": [
    "df['date']"
   ]
  },
  {
   "cell_type": "code",
   "execution_count": 45,
   "id": "d07e05c4",
   "metadata": {},
   "outputs": [],
   "source": [
    "from src.api_call.simulate_api_call import Simulator"
   ]
  },
  {
   "cell_type": "code",
   "execution_count": 46,
   "id": "3aa82a9f",
   "metadata": {},
   "outputs": [],
   "source": [
    "sim = Simulator()"
   ]
  },
  {
   "cell_type": "code",
   "execution_count": 48,
   "id": "772067dc",
   "metadata": {},
   "outputs": [
    {
     "name": "stdout",
     "output_type": "stream",
     "text": [
      "                 date    open    high     low   close  volume  barCount  \\\n",
      "0 2021-04-30 21:31:00  667.72  672.73  667.52  671.23    1179       587   \n",
      "1 2021-04-30 21:32:00  671.60  672.00  669.29  670.69     695       370   \n",
      "2 2021-04-30 21:33:00  670.82  671.52  669.86  670.39     550       303   \n",
      "3 2021-04-30 21:34:00  670.94  671.60  669.50  670.00     532       333   \n",
      "4 2021-04-30 21:35:00  670.03  670.81  668.00  669.18     623       370   \n",
      "5 2021-04-30 21:36:00  669.21  670.35  668.22  668.96     609       303   \n",
      "6 2021-04-30 21:37:00  669.30  669.97  667.59  668.99     678       313   \n",
      "7 2021-04-30 21:38:00  668.86  671.71  668.67  670.92     844       456   \n",
      "8 2021-04-30 21:39:00  670.81  672.47  670.74  671.97     956       478   \n",
      "\n",
      "                     average      time    date_str  date_epoch  \n",
      "0                    670.746  21:31:00  2021-04-30  1619818260  \n",
      "1                    670.606  21:32:00  2021-04-30  1619818320  \n",
      "2                    670.675  21:33:00  2021-04-30  1619818380  \n",
      "3                    670.607  21:34:00  2021-04-30  1619818440  \n",
      "4                    669.296  21:35:00  2021-04-30  1619818500  \n",
      "5                    669.274  21:36:00  2021-04-30  1619818560  \n",
      "6                    668.858  21:37:00  2021-04-30  1619818620  \n",
      "7                    670.284  21:38:00  2021-04-30  1619818680  \n",
      "8  671.95920210430  21:40:00  21:39:00  2021-04-30  1619818740  \n"
     ]
    },
    {
     "data": {
      "text/plain": [
       "'[[[1619818260, [667.72, 672.73, 667.52, 671.23]], [1619818320, [671.6, 672.0, 669.29, 670.69]], [1619818380, [670.82, 671.52, 669.86, 670.39]], [1619818440, [670.94, 671.6, 669.5, 670.0]], [1619818500, [670.03, 670.81, 668.0, 669.18]], [1619818560, [669.21, 670.35, 668.22, 668.96]], [1619818620, [669.3, 669.97, 667.59, 668.99]], [1619818680, [668.86, 671.71, 668.67, 670.92]], [1619818740, [670.81, 672.47, 670.74, 671.97]]], [{\"x\": 1619818620, \"label\": {\"text\": \"HIKK + | MATC +\"}}, {\"x\": 1619818680, \"label\": {\"text\": \"ENGU + | HIKK +\"}}, {\"x\": 1619818740, \"label\": {\"text\": \"3OUT +\"}}]]'"
      ]
     },
     "execution_count": 48,
     "metadata": {},
     "output_type": "execute_result"
    }
   ],
   "source": [
    "sim.get_data()"
   ]
  },
  {
   "cell_type": "markdown",
   "id": "9067c6df",
   "metadata": {},
   "source": [
    "# Generate Candle Names"
   ]
  },
  {
   "cell_type": "code",
   "execution_count": 26,
   "id": "ee3adab8",
   "metadata": {},
   "outputs": [],
   "source": [
    "import talib"
   ]
  },
  {
   "cell_type": "code",
   "execution_count": 27,
   "id": "fb204534",
   "metadata": {},
   "outputs": [],
   "source": [
    "all_cdl_patterns = talib.get_function_groups()['Pattern Recognition']"
   ]
  },
  {
   "cell_type": "code",
   "execution_count": 28,
   "id": "84676a2f",
   "metadata": {
    "collapsed": true
   },
   "outputs": [
    {
     "data": {
      "text/plain": [
       "['CDL2CROWS',\n",
       " 'CDL3BLACKCROWS',\n",
       " 'CDL3INSIDE',\n",
       " 'CDL3LINESTRIKE',\n",
       " 'CDL3OUTSIDE',\n",
       " 'CDL3STARSINSOUTH',\n",
       " 'CDL3WHITESOLDIERS',\n",
       " 'CDLABANDONEDBABY',\n",
       " 'CDLADVANCEBLOCK',\n",
       " 'CDLBELTHOLD',\n",
       " 'CDLBREAKAWAY',\n",
       " 'CDLCLOSINGMARUBOZU',\n",
       " 'CDLCONCEALBABYSWALL',\n",
       " 'CDLCOUNTERATTACK',\n",
       " 'CDLDARKCLOUDCOVER',\n",
       " 'CDLDOJI',\n",
       " 'CDLDOJISTAR',\n",
       " 'CDLDRAGONFLYDOJI',\n",
       " 'CDLENGULFING',\n",
       " 'CDLEVENINGDOJISTAR',\n",
       " 'CDLEVENINGSTAR',\n",
       " 'CDLGAPSIDESIDEWHITE',\n",
       " 'CDLGRAVESTONEDOJI',\n",
       " 'CDLHAMMER',\n",
       " 'CDLHANGINGMAN',\n",
       " 'CDLHARAMI',\n",
       " 'CDLHARAMICROSS',\n",
       " 'CDLHIGHWAVE',\n",
       " 'CDLHIKKAKE',\n",
       " 'CDLHIKKAKEMOD',\n",
       " 'CDLHOMINGPIGEON',\n",
       " 'CDLIDENTICAL3CROWS',\n",
       " 'CDLINNECK',\n",
       " 'CDLINVERTEDHAMMER',\n",
       " 'CDLKICKING',\n",
       " 'CDLKICKINGBYLENGTH',\n",
       " 'CDLLADDERBOTTOM',\n",
       " 'CDLLONGLEGGEDDOJI',\n",
       " 'CDLLONGLINE',\n",
       " 'CDLMARUBOZU',\n",
       " 'CDLMATCHINGLOW',\n",
       " 'CDLMATHOLD',\n",
       " 'CDLMORNINGDOJISTAR',\n",
       " 'CDLMORNINGSTAR',\n",
       " 'CDLONNECK',\n",
       " 'CDLPIERCING',\n",
       " 'CDLRICKSHAWMAN',\n",
       " 'CDLRISEFALL3METHODS',\n",
       " 'CDLSEPARATINGLINES',\n",
       " 'CDLSHOOTINGSTAR',\n",
       " 'CDLSHORTLINE',\n",
       " 'CDLSPINNINGTOP',\n",
       " 'CDLSTALLEDPATTERN',\n",
       " 'CDLSTICKSANDWICH',\n",
       " 'CDLTAKURI',\n",
       " 'CDLTASUKIGAP',\n",
       " 'CDLTHRUSTING',\n",
       " 'CDLTRISTAR',\n",
       " 'CDLUNIQUE3RIVER',\n",
       " 'CDLUPSIDEGAP2CROWS',\n",
       " 'CDLXSIDEGAP3METHODS']"
      ]
     },
     "execution_count": 28,
     "metadata": {},
     "output_type": "execute_result"
    }
   ],
   "source": [
    "all_cdl_patterns"
   ]
  },
  {
   "cell_type": "code",
   "execution_count": 14,
   "id": "2f8b0464",
   "metadata": {},
   "outputs": [],
   "source": [
    "df['morning_star'] = talib.CDLHARAMI(df['open'], df['high'], df['low'], df['close'])"
   ]
  },
  {
   "cell_type": "code",
   "execution_count": 15,
   "id": "829af55b",
   "metadata": {},
   "outputs": [],
   "source": [
    "filtered = df[df['morning_star'].astype(bool)]"
   ]
  },
  {
   "cell_type": "code",
   "execution_count": 16,
   "id": "73e478c4",
   "metadata": {},
   "outputs": [
    {
     "data": {
      "text/html": [
       "<div>\n",
       "<style scoped>\n",
       "    .dataframe tbody tr th:only-of-type {\n",
       "        vertical-align: middle;\n",
       "    }\n",
       "\n",
       "    .dataframe tbody tr th {\n",
       "        vertical-align: top;\n",
       "    }\n",
       "\n",
       "    .dataframe thead th {\n",
       "        text-align: right;\n",
       "    }\n",
       "</style>\n",
       "<table border=\"1\" class=\"dataframe\">\n",
       "  <thead>\n",
       "    <tr style=\"text-align: right;\">\n",
       "      <th></th>\n",
       "      <th>date</th>\n",
       "      <th>open</th>\n",
       "      <th>high</th>\n",
       "      <th>low</th>\n",
       "      <th>close</th>\n",
       "      <th>volume</th>\n",
       "      <th>barCount</th>\n",
       "      <th>average</th>\n",
       "      <th>time</th>\n",
       "      <th>t+1</th>\n",
       "      <th>t+2</th>\n",
       "      <th>t+3</th>\n",
       "      <th>t+4</th>\n",
       "      <th>morning_star</th>\n",
       "    </tr>\n",
       "  </thead>\n",
       "  <tbody>\n",
       "    <tr>\n",
       "      <th>21</th>\n",
       "      <td>2021-04-30</td>\n",
       "      <td>680.50</td>\n",
       "      <td>680.53</td>\n",
       "      <td>678.80</td>\n",
       "      <td>679.85</td>\n",
       "      <td>1062</td>\n",
       "      <td>582</td>\n",
       "      <td>679.631</td>\n",
       "      <td>21:51:00</td>\n",
       "      <td>-0.11</td>\n",
       "      <td>0.11</td>\n",
       "      <td>0.05</td>\n",
       "      <td>-0.12</td>\n",
       "      <td>-100</td>\n",
       "    </tr>\n",
       "    <tr>\n",
       "      <th>54</th>\n",
       "      <td>2021-04-30</td>\n",
       "      <td>690.71</td>\n",
       "      <td>691.13</td>\n",
       "      <td>690.18</td>\n",
       "      <td>690.74</td>\n",
       "      <td>823</td>\n",
       "      <td>499</td>\n",
       "      <td>690.688</td>\n",
       "      <td>22:24:00</td>\n",
       "      <td>-0.09</td>\n",
       "      <td>-0.03</td>\n",
       "      <td>-0.07</td>\n",
       "      <td>0.21</td>\n",
       "      <td>-100</td>\n",
       "    </tr>\n",
       "    <tr>\n",
       "      <th>59</th>\n",
       "      <td>2021-04-30</td>\n",
       "      <td>692.11</td>\n",
       "      <td>692.27</td>\n",
       "      <td>691.33</td>\n",
       "      <td>691.67</td>\n",
       "      <td>701</td>\n",
       "      <td>415</td>\n",
       "      <td>691.683</td>\n",
       "      <td>22:29:00</td>\n",
       "      <td>0.05</td>\n",
       "      <td>0.27</td>\n",
       "      <td>0.25</td>\n",
       "      <td>0.46</td>\n",
       "      <td>-100</td>\n",
       "    </tr>\n",
       "    <tr>\n",
       "      <th>81</th>\n",
       "      <td>2021-04-30</td>\n",
       "      <td>695.92</td>\n",
       "      <td>696.34</td>\n",
       "      <td>695.00</td>\n",
       "      <td>696.30</td>\n",
       "      <td>758</td>\n",
       "      <td>417</td>\n",
       "      <td>695.798</td>\n",
       "      <td>22:51:00</td>\n",
       "      <td>0.21</td>\n",
       "      <td>-0.05</td>\n",
       "      <td>-0.05</td>\n",
       "      <td>-0.20</td>\n",
       "      <td>100</td>\n",
       "    </tr>\n",
       "    <tr>\n",
       "      <th>107</th>\n",
       "      <td>2021-04-30</td>\n",
       "      <td>694.51</td>\n",
       "      <td>695.78</td>\n",
       "      <td>694.40</td>\n",
       "      <td>695.25</td>\n",
       "      <td>557</td>\n",
       "      <td>365</td>\n",
       "      <td>694.790</td>\n",
       "      <td>23:17:00</td>\n",
       "      <td>0.03</td>\n",
       "      <td>-0.11</td>\n",
       "      <td>0.01</td>\n",
       "      <td>0.25</td>\n",
       "      <td>100</td>\n",
       "    </tr>\n",
       "    <tr>\n",
       "      <th>110</th>\n",
       "      <td>2021-04-30</td>\n",
       "      <td>694.52</td>\n",
       "      <td>695.69</td>\n",
       "      <td>693.38</td>\n",
       "      <td>695.31</td>\n",
       "      <td>596</td>\n",
       "      <td>320</td>\n",
       "      <td>694.666</td>\n",
       "      <td>23:20:00</td>\n",
       "      <td>0.24</td>\n",
       "      <td>0.16</td>\n",
       "      <td>0.25</td>\n",
       "      <td>0.23</td>\n",
       "      <td>100</td>\n",
       "    </tr>\n",
       "    <tr>\n",
       "      <th>118</th>\n",
       "      <td>2021-04-30</td>\n",
       "      <td>696.12</td>\n",
       "      <td>696.57</td>\n",
       "      <td>695.60</td>\n",
       "      <td>696.53</td>\n",
       "      <td>309</td>\n",
       "      <td>209</td>\n",
       "      <td>696.104</td>\n",
       "      <td>23:28:00</td>\n",
       "      <td>0.11</td>\n",
       "      <td>0.05</td>\n",
       "      <td>0.17</td>\n",
       "      <td>0.35</td>\n",
       "      <td>100</td>\n",
       "    </tr>\n",
       "    <tr>\n",
       "      <th>131</th>\n",
       "      <td>2021-04-30</td>\n",
       "      <td>704.44</td>\n",
       "      <td>704.98</td>\n",
       "      <td>703.39</td>\n",
       "      <td>704.21</td>\n",
       "      <td>1426</td>\n",
       "      <td>691</td>\n",
       "      <td>704.535</td>\n",
       "      <td>23:41:00</td>\n",
       "      <td>-0.19</td>\n",
       "      <td>-0.23</td>\n",
       "      <td>-0.18</td>\n",
       "      <td>-0.21</td>\n",
       "      <td>-100</td>\n",
       "    </tr>\n",
       "  </tbody>\n",
       "</table>\n",
       "</div>"
      ],
      "text/plain": [
       "           date    open    high     low   close  volume  barCount  average  \\\n",
       "21   2021-04-30  680.50  680.53  678.80  679.85    1062       582  679.631   \n",
       "54   2021-04-30  690.71  691.13  690.18  690.74     823       499  690.688   \n",
       "59   2021-04-30  692.11  692.27  691.33  691.67     701       415  691.683   \n",
       "81   2021-04-30  695.92  696.34  695.00  696.30     758       417  695.798   \n",
       "107  2021-04-30  694.51  695.78  694.40  695.25     557       365  694.790   \n",
       "110  2021-04-30  694.52  695.69  693.38  695.31     596       320  694.666   \n",
       "118  2021-04-30  696.12  696.57  695.60  696.53     309       209  696.104   \n",
       "131  2021-04-30  704.44  704.98  703.39  704.21    1426       691  704.535   \n",
       "\n",
       "         time   t+1   t+2   t+3   t+4  morning_star  \n",
       "21   21:51:00 -0.11  0.11  0.05 -0.12          -100  \n",
       "54   22:24:00 -0.09 -0.03 -0.07  0.21          -100  \n",
       "59   22:29:00  0.05  0.27  0.25  0.46          -100  \n",
       "81   22:51:00  0.21 -0.05 -0.05 -0.20           100  \n",
       "107  23:17:00  0.03 -0.11  0.01  0.25           100  \n",
       "110  23:20:00  0.24  0.16  0.25  0.23           100  \n",
       "118  23:28:00  0.11  0.05  0.17  0.35           100  \n",
       "131  23:41:00 -0.19 -0.23 -0.18 -0.21          -100  "
      ]
     },
     "execution_count": 16,
     "metadata": {},
     "output_type": "execute_result"
    }
   ],
   "source": [
    "filtered"
   ]
  },
  {
   "cell_type": "code",
   "execution_count": 16,
   "id": "df4f3a37",
   "metadata": {},
   "outputs": [
    {
     "data": {
      "text/plain": [
       "<AxesSubplot:>"
      ]
     },
     "execution_count": 16,
     "metadata": {},
     "output_type": "execute_result"
    },
    {
     "data": {
      "image/png": "[encoded data removed]",
      "text/plain": [
       "<Figure size 432x288 with 1 Axes>"
      ]
     },
     "metadata": {
      "needs_background": "light"
     },
     "output_type": "display_data"
    }
   ],
   "source": [
    "filtered['t+1'].hist()"
   ]
  },
  {
   "cell_type": "code",
   "execution_count": 17,
   "id": "ce93a178",
   "metadata": {},
   "outputs": [
    {
     "data": {
      "text/plain": [
       "<AxesSubplot:>"
      ]
     },
     "execution_count": 17,
     "metadata": {},
     "output_type": "execute_result"
    },
    {
     "data": {
      "image/png": "[encoded data removed]",
      "text/plain": [
       "<Figure size 432x288 with 1 Axes>"
      ]
     },
     "metadata": {
      "needs_background": "light"
     },
     "output_type": "display_data"
    }
   ],
   "source": [
    "filtered['t+2'].hist()"
   ]
  },
  {
   "cell_type": "code",
   "execution_count": 18,
   "id": "02ad3d74",
   "metadata": {},
   "outputs": [
    {
     "data": {
      "text/plain": [
       "<AxesSubplot:>"
      ]
     },
     "execution_count": 18,
     "metadata": {},
     "output_type": "execute_result"
    },
    {
     "data": {
      "image/png": "[encoded data removed]",
      "text/plain": [
       "<Figure size 432x288 with 1 Axes>"
      ]
     },
     "metadata": {
      "needs_background": "light"
     },
     "output_type": "display_data"
    }
   ],
   "source": [
    "filtered['t+4'].hist()"
   ]
  },
  {
   "cell_type": "code",
   "execution_count": 389,
   "id": "8abd34c2",
   "metadata": {},
   "outputs": [
    {
     "ename": "AttributeError",
     "evalue": "module 'talib' has no attribute 'C'",
     "output_type": "error",
     "traceback": [
      "\u001b[1;31m---------------------------------------------------------------------------\u001b[0m",
      "\u001b[1;31mAttributeError\u001b[0m                            Traceback (most recent call last)",
      "\u001b[1;32m<ipython-input-389-40a99fd89334>\u001b[0m in \u001b[0;36m<module>\u001b[1;34m\u001b[0m\n\u001b[1;32m----> 1\u001b[1;33m \u001b[0mdf\u001b[0m\u001b[1;33m[\u001b[0m\u001b[1;34m'doji'\u001b[0m\u001b[1;33m]\u001b[0m \u001b[1;33m=\u001b[0m \u001b[0mtalib\u001b[0m\u001b[1;33m.\u001b[0m\u001b[0mC\u001b[0m\u001b[1;33m(\u001b[0m\u001b[0mdf\u001b[0m\u001b[1;33m[\u001b[0m\u001b[1;34m'open'\u001b[0m\u001b[1;33m]\u001b[0m\u001b[1;33m,\u001b[0m \u001b[0mdf\u001b[0m\u001b[1;33m[\u001b[0m\u001b[1;34m'high'\u001b[0m\u001b[1;33m]\u001b[0m\u001b[1;33m,\u001b[0m \u001b[0mdf\u001b[0m\u001b[1;33m[\u001b[0m\u001b[1;34m'low'\u001b[0m\u001b[1;33m]\u001b[0m\u001b[1;33m,\u001b[0m \u001b[0mdf\u001b[0m\u001b[1;33m[\u001b[0m\u001b[1;34m'close'\u001b[0m\u001b[1;33m]\u001b[0m\u001b[1;33m)\u001b[0m\u001b[1;33m\u001b[0m\u001b[1;33m\u001b[0m\u001b[0m\n\u001b[0m\u001b[0;32m      2\u001b[0m \u001b[0mdf\u001b[0m\u001b[1;33m[\u001b[0m\u001b[1;34m'harami'\u001b[0m\u001b[1;33m]\u001b[0m \u001b[1;33m=\u001b[0m \u001b[0mtalib\u001b[0m\u001b[1;33m.\u001b[0m\u001b[0mCDLHARAMI\u001b[0m\u001b[1;33m(\u001b[0m\u001b[0mdf\u001b[0m\u001b[1;33m[\u001b[0m\u001b[1;34m'open'\u001b[0m\u001b[1;33m]\u001b[0m\u001b[1;33m,\u001b[0m \u001b[0mdf\u001b[0m\u001b[1;33m[\u001b[0m\u001b[1;34m'high'\u001b[0m\u001b[1;33m]\u001b[0m\u001b[1;33m,\u001b[0m \u001b[0mdf\u001b[0m\u001b[1;33m[\u001b[0m\u001b[1;34m'low'\u001b[0m\u001b[1;33m]\u001b[0m\u001b[1;33m,\u001b[0m \u001b[0mdf\u001b[0m\u001b[1;33m[\u001b[0m\u001b[1;34m'close'\u001b[0m\u001b[1;33m]\u001b[0m\u001b[1;33m)\u001b[0m\u001b[1;33m\u001b[0m\u001b[1;33m\u001b[0m\u001b[0m\n\u001b[0;32m      3\u001b[0m \u001b[0mdf\u001b[0m\u001b[1;33m[\u001b[0m\u001b[1;34m'kick'\u001b[0m\u001b[1;33m]\u001b[0m \u001b[1;33m=\u001b[0m \u001b[0mtalib\u001b[0m\u001b[1;33m.\u001b[0m\u001b[0mCDLKICKING\u001b[0m\u001b[1;33m(\u001b[0m\u001b[0mdf\u001b[0m\u001b[1;33m[\u001b[0m\u001b[1;34m'open'\u001b[0m\u001b[1;33m]\u001b[0m\u001b[1;33m,\u001b[0m \u001b[0mdf\u001b[0m\u001b[1;33m[\u001b[0m\u001b[1;34m'high'\u001b[0m\u001b[1;33m]\u001b[0m\u001b[1;33m,\u001b[0m \u001b[0mdf\u001b[0m\u001b[1;33m[\u001b[0m\u001b[1;34m'low'\u001b[0m\u001b[1;33m]\u001b[0m\u001b[1;33m,\u001b[0m \u001b[0mdf\u001b[0m\u001b[1;33m[\u001b[0m\u001b[1;34m'close'\u001b[0m\u001b[1;33m]\u001b[0m\u001b[1;33m)\u001b[0m\u001b[1;33m\u001b[0m\u001b[1;33m\u001b[0m\u001b[0m\n\u001b[0;32m      4\u001b[0m \u001b[0mdf\u001b[0m\u001b[1;33m[\u001b[0m\u001b[1;34m'piecing'\u001b[0m\u001b[1;33m]\u001b[0m \u001b[1;33m=\u001b[0m \u001b[0mtalib\u001b[0m\u001b[1;33m.\u001b[0m\u001b[0mCDLPIERCING\u001b[0m\u001b[1;33m(\u001b[0m\u001b[0mdf\u001b[0m\u001b[1;33m[\u001b[0m\u001b[1;34m'open'\u001b[0m\u001b[1;33m]\u001b[0m\u001b[1;33m,\u001b[0m \u001b[0mdf\u001b[0m\u001b[1;33m[\u001b[0m\u001b[1;34m'high'\u001b[0m\u001b[1;33m]\u001b[0m\u001b[1;33m,\u001b[0m \u001b[0mdf\u001b[0m\u001b[1;33m[\u001b[0m\u001b[1;34m'low'\u001b[0m\u001b[1;33m]\u001b[0m\u001b[1;33m,\u001b[0m \u001b[0mdf\u001b[0m\u001b[1;33m[\u001b[0m\u001b[1;34m'close'\u001b[0m\u001b[1;33m]\u001b[0m\u001b[1;33m)\u001b[0m\u001b[1;33m\u001b[0m\u001b[1;33m\u001b[0m\u001b[0m\n\u001b[0;32m      5\u001b[0m \u001b[0mdf\u001b[0m\u001b[1;33m[\u001b[0m\u001b[1;34m'englufing'\u001b[0m\u001b[1;33m]\u001b[0m \u001b[1;33m=\u001b[0m \u001b[0mtalib\u001b[0m\u001b[1;33m.\u001b[0m\u001b[0mCDLENGULFING\u001b[0m\u001b[1;33m(\u001b[0m\u001b[0mdf\u001b[0m\u001b[1;33m[\u001b[0m\u001b[1;34m'open'\u001b[0m\u001b[1;33m]\u001b[0m\u001b[1;33m,\u001b[0m \u001b[0mdf\u001b[0m\u001b[1;33m[\u001b[0m\u001b[1;34m'high'\u001b[0m\u001b[1;33m]\u001b[0m\u001b[1;33m,\u001b[0m \u001b[0mdf\u001b[0m\u001b[1;33m[\u001b[0m\u001b[1;34m'low'\u001b[0m\u001b[1;33m]\u001b[0m\u001b[1;33m,\u001b[0m \u001b[0mdf\u001b[0m\u001b[1;33m[\u001b[0m\u001b[1;34m'close'\u001b[0m\u001b[1;33m]\u001b[0m\u001b[1;33m)\u001b[0m\u001b[1;33m\u001b[0m\u001b[1;33m\u001b[0m\u001b[0m\n",
      "\u001b[1;31mAttributeError\u001b[0m: module 'talib' has no attribute 'C'"
     ]
    }
   ],
   "source": [
    "df['doji'] = talib.C(df['open'], df['high'], df['low'], df['close'])\n",
    "df['harami'] = talib.CDLHARAMI(df['open'], df['high'], df['low'], df['close'])\n",
    "df['kick'] = talib.CDLKICKING(df['open'], df['high'], df['low'], df['close'])\n",
    "df['piecing'] = talib.CDLPIERCING(df['open'], df['high'], df['low'], df['close'])\n",
    "df['englufing'] = talib.CDLENGULFING(df['open'], df['high'], df['low'], df['close'])\n",
    "df['hammer'] = talib.CDLHAMMER(df['open'], df['high'], df['low'], df['close'])"
   ]
  },
  {
   "cell_type": "code",
   "execution_count": 17,
   "id": "5ac97e85",
   "metadata": {},
   "outputs": [],
   "source": [
    "df['morning_star'] = df['morning_star'].astype(bool)"
   ]
  },
  {
   "cell_type": "code",
   "execution_count": 18,
   "id": "cd6ac988",
   "metadata": {},
   "outputs": [],
   "source": [
    "matched_times = df[df['morning_star']]['time']"
   ]
  },
  {
   "cell_type": "code",
   "execution_count": 19,
   "id": "81d450c9",
   "metadata": {},
   "outputs": [],
   "source": [
    "# Draw the lines for reference\n",
    "shapes_list = []\n",
    "annotation_list = []\n",
    "for time in matched_times:\n",
    "    shapes_list.append(dict(x0=time, x1=time, y0=0, y1=1, xref='x', yref='paper', line_width=1))\n",
    "    annotation_list.append(dict(x=time, y=0.05, xref='x', yref='paper', showarrow=False, xanchor='left', text='Hammer'))"
   ]
  },
  {
   "cell_type": "markdown",
   "id": "e900ccfb",
   "metadata": {},
   "source": [
    "# Candle Chart\n",
    "Draw for single day regarless of dates"
   ]
  },
  {
   "cell_type": "code",
   "execution_count": 20,
   "id": "f931829b",
   "metadata": {},
   "outputs": [],
   "source": [
    "fig = go.Figure()\n",
    "\n",
    "fig.add_trace(go.Candlestick(x=df['time'],\n",
    "        open=df['open'],\n",
    "        high=df['high'],\n",
    "        low=df['low'],\n",
    "        close=df['close'],\n",
    "        text=df['close']))\n",
    "\n",
    "fig.update_layout(\n",
    "    title=f'Analysis on {day}',\n",
    "    yaxis_title='Price',\n",
    "    shapes = shapes_list,\n",
    "    annotations=annotation_list\n",
    ")\n",
    "\n",
    "import plotly.io as pio\n",
    "pio.renderers.default = 'browser'\n",
    "pio.show(fig)"
   ]
  },
  {
   "cell_type": "markdown",
   "id": "9fb10ea3",
   "metadata": {},
   "source": [
    "# Line Chart"
   ]
  },
  {
   "cell_type": "code",
   "execution_count": 13,
   "id": "0151e375",
   "metadata": {},
   "outputs": [],
   "source": [
    "line_data = df[['date', 'time' ,'average', 'open']].copy()"
   ]
  },
  {
   "cell_type": "code",
   "execution_count": 14,
   "id": "4bcbe4cc",
   "metadata": {},
   "outputs": [],
   "source": [
    "# Find the min open price\n",
    "min_open_price = line_data['open'].min()"
   ]
  },
  {
   "cell_type": "code",
   "execution_count": 15,
   "id": "8c3c76ff",
   "metadata": {},
   "outputs": [],
   "source": [
    "# To bring all open price to 0, subtract open price from average\n",
    "line_data['avg_nor'] = line_data['average'] - line_data['open']"
   ]
  },
  {
   "cell_type": "code",
   "execution_count": 16,
   "id": "2225abc0",
   "metadata": {},
   "outputs": [],
   "source": [
    "dates = sorted(line_data['date'].unique())"
   ]
  },
  {
   "cell_type": "code",
   "execution_count": 17,
   "id": "a2f5b572",
   "metadata": {},
   "outputs": [],
   "source": [
    "fig = go.Figure()\n",
    "\n",
    "for date in dates:\n",
    "    data = line_data[line_data['date'] == date]\n",
    "    fig.add_trace(go.Scatter(x=data['time'], y=data['avg_nor'], name = date))\n",
    "\n",
    "import plotly.io as pio\n",
    "pio.renderers.default = 'browser'\n",
    "pio.show(fig)"
   ]
  },
  {
   "cell_type": "code",
   "execution_count": null,
   "id": "35f9417e",
   "metadata": {},
   "outputs": [],
   "source": []
  }
 ],
 "metadata": {
  "kernelspec": {
   "display_name": "Python 3",
   "language": "python",
   "name": "python3"
  },
  "language_info": {
   "codemirror_mode": {
    "name": "ipython",
    "version": 3
   },
   "file_extension": ".py",
   "mimetype": "text/x-python",
   "name": "python",
   "nbconvert_exporter": "python",
   "pygments_lexer": "ipython3",
   "version": "3.7.10"
  }
 },
 "nbformat": 4,
 "nbformat_minor": 5
}
